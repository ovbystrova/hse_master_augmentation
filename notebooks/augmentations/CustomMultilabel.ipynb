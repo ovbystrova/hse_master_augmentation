{
 "cells": [
  {
   "cell_type": "code",
   "execution_count": 1,
   "id": "8292cffc",
   "metadata": {},
   "outputs": [],
   "source": [
    "%load_ext autoreload\n",
    "%autoreload 2"
   ]
  },
  {
   "cell_type": "code",
   "execution_count": 33,
   "id": "6c3996bd",
   "metadata": {},
   "outputs": [],
   "source": [
    "from ast import literal_eval\n",
    "import os\n",
    "from pathlib import Path\n",
    "import pickle\n",
    "import random\n",
    "\n",
    "import augmenty\n",
    "import pandas as pd\n",
    "from sklearn.model_selection import train_test_split\n",
    "import spacy\n",
    "from spacy.tokens import DocBin\n",
    "from tqdm import tqdm"
   ]
  },
  {
   "cell_type": "code",
   "execution_count": 69,
   "id": "a9046062",
   "metadata": {},
   "outputs": [],
   "source": [
    "spacypath = Path(\"../../data/ner/custom\")\n",
    "\n",
    "entities_for_multilabel = Path(\"../../data/ner/custom/entities_values_multilabel.pickle\")\n",
    "\n",
    "train_filepath = Path(\"../../data/ner/baseline/train.xlsx\")\n",
    "valid_filepath = Path(\"../../data/ner/baseline/valid.xlsx\")\n",
    "test_filepath = Path(\"../../data/ner/baseline/test.xlsx\")"
   ]
  },
  {
   "cell_type": "markdown",
   "id": "862a3796",
   "metadata": {},
   "source": [
    "# Augmenty "
   ]
  },
  {
   "cell_type": "code",
   "execution_count": 58,
   "id": "f4b67e50",
   "metadata": {},
   "outputs": [],
   "source": [
    "# Load Augmenters\n",
    "\n",
    "keystroke_error_augmenter = augmenty.load(\"keystroke_error.v1\", level=0.1, keyboard=\"ru.v1\")\n",
    "\n",
    "replace_dict = {\n",
    "    \"0\": [\"1\", \"2\", \"3\", \"4\", \"5\", \"6\", \"7\", \"8\", \"9\"],\n",
    "    \"1\": [\"0\", \"2\", \"3\", \"4\", \"5\", \"6\", \"7\", \"8\", \"9\"],\n",
    "    \"2\": [\"1\", \"0\", \"3\", \"4\", \"5\", \"6\", \"7\", \"8\", \"9\"],\n",
    "    \"3\": [\"1\", \"2\", \"0\", \"4\", \"5\", \"6\", \"7\", \"8\", \"9\"],\n",
    "    \"4\": [\"1\", \"2\", \"3\", \"0\", \"5\", \"6\", \"7\", \"8\", \"9\"],\n",
    "    \"5\": [\"1\", \"2\", \"3\", \"4\", \"0\", \"6\", \"7\", \"8\", \"9\"],\n",
    "    \"6\": [\"1\", \"2\", \"3\", \"4\", \"5\", \"0\", \"7\", \"8\", \"9\"],\n",
    "    \"7\": [\"1\", \"2\", \"3\", \"4\", \"5\", \"6\", \"0\", \"8\", \"9\"],\n",
    "    \"8\": [\"1\", \"2\", \"3\", \"4\", \"5\", \"6\", \"7\", \"0\", \"9\"],\n",
    "    \"9\": [\"1\", \"2\", \"3\", \"4\", \"5\", \"6\", \"7\", \"8\", \"0\"]\n",
    "}\n",
    "char_replace_augmenter = augmenty.load(\"char_replace.v1\", level=0.9, replace=replace_dict)\n",
    "\n",
    "with open(entities_for_multilabel, \"rb\") as f:\n",
    "    entity_values = pickle.load(f)"
   ]
  },
  {
   "cell_type": "markdown",
   "id": "26a7c14a",
   "metadata": {},
   "source": [
    "# Prepare data and split it"
   ]
  },
  {
   "cell_type": "code",
   "execution_count": 59,
   "id": "8dbcb60d",
   "metadata": {},
   "outputs": [],
   "source": [
    "train = pd.read_excel(train_filepath, engine=\"openpyxl\")\n",
    "valid = pd.read_excel(valid_filepath, engine=\"openpyxl\")\n",
    "test = pd.read_excel(test_filepath, engine=\"openpyxl\")"
   ]
  },
  {
   "cell_type": "code",
   "execution_count": 60,
   "id": "030d39dc",
   "metadata": {},
   "outputs": [],
   "source": [
    "# TODO Replace it with \n",
    "\n",
    "def create_data(df, textcol=\"text\", labelcol=\"markup\"):\n",
    "    \n",
    "    data = []\n",
    "    \n",
    "    for index, row in tqdm(df.iterrows(), total=len(df)):\n",
    "        line = row[textcol]\n",
    "        entities = literal_eval(row[labelcol])\n",
    "\n",
    "        entities_filtered = []\n",
    "        for entity in entities:\n",
    "            start, end, label = entity[0], entity[1], entity[2]\n",
    "            \n",
    "            entities_filtered.append((start, end, label))\n",
    "\n",
    "        data.append((line, entities_filtered))\n",
    "    \n",
    "    return data"
   ]
  },
  {
   "cell_type": "code",
   "execution_count": 61,
   "id": "283bd68c",
   "metadata": {},
   "outputs": [
    {
     "name": "stderr",
     "output_type": "stream",
     "text": [
      "100%|███████████████████████████████████████| 814/814 [00:00<00:00, 7015.00it/s]\n",
      "100%|███████████████████████████████████████| 283/283 [00:00<00:00, 7642.41it/s]\n",
      "100%|███████████████████████████████████████| 130/130 [00:00<00:00, 8100.84it/s]\n"
     ]
    }
   ],
   "source": [
    "train_data = create_data(train)\n",
    "valid_data = create_data(valid)\n",
    "test_data = create_data(test)"
   ]
  },
  {
   "cell_type": "code",
   "execution_count": 62,
   "id": "076b4ce7",
   "metadata": {},
   "outputs": [
    {
     "data": {
      "text/plain": [
       "(814, 283, 130)"
      ]
     },
     "execution_count": 62,
     "metadata": {},
     "output_type": "execute_result"
    }
   ],
   "source": [
    "len(train_data), len(valid_data), len(test_data)"
   ]
  },
  {
   "cell_type": "markdown",
   "id": "72200814",
   "metadata": {},
   "source": [
    "## Do Augmentations"
   ]
  },
  {
   "cell_type": "code",
   "execution_count": 63,
   "id": "db651b3d",
   "metadata": {},
   "outputs": [],
   "source": [
    "nlp = spacy.blank(\"ru\")\n",
    "\n",
    "def use_augmeny(text, augmenter, nlp):\n",
    "    texts = augmenty.texts([text], augmenter=augmenter, nlp=nlp)\n",
    "    texts = [_text for _text in texts if len(_text) == len(text)]\n",
    "    return texts\n",
    "\n",
    "\n",
    "def replace_entity_with_same_length(text, annotations, entity_dict, n=3):\n",
    "    \n",
    "    texts = []\n",
    "    \n",
    "    \n",
    "    for i in range(n):\n",
    "        \n",
    "        _text = text[:]\n",
    "        \n",
    "        for annotation in annotations:\n",
    "            start, end, label = annotation[0], annotation[1], annotation[2]\n",
    "            value = text[start:end]\n",
    "            value_length = len(value)\n",
    "            \n",
    "            values_with_same_length = [_ for _ in entity_dict[label] if len(_) == value_length]\n",
    "            if len(values_with_same_length) == 0:\n",
    "                try:\n",
    "                    value_augmented = \"\".join(random.choices([\"1\", \"2\", \"3\", \n",
    "                                                              \"4\",\"5\", \"6\", \"7\", \"8\", \"9\"], value_length))\n",
    "                except TypeError:\n",
    "                    value_augmented = value[:]\n",
    "            else:\n",
    "                value_augmented = random.choice(values_with_same_length)\n",
    "            \n",
    "            _text = _text.replace(value, value_augmented)\n",
    "            \n",
    "            \n",
    "        texts.append(_text)\n",
    "    \n",
    "    \n",
    "    return texts"
   ]
  },
  {
   "cell_type": "code",
   "execution_count": 64,
   "id": "a5b8f677",
   "metadata": {},
   "outputs": [],
   "source": [
    "def augment_data(data):\n",
    "    \n",
    "    data_augmented = []\n",
    "    \n",
    "    for text, annotations in data:\n",
    "        \n",
    "        texts_augmented = []\n",
    "        texts_augmented.append(text)\n",
    "        \n",
    "        texts_digits = use_augmeny(text, augmenter=char_replace_augmenter, nlp=nlp)\n",
    "        texts_keystroke = use_augmeny(text, augmenter=keystroke_error_augmenter, nlp=nlp)\n",
    "        texts_entity_replace = replace_entity_with_same_length(text, annotations, entity_dict=entity_values)\n",
    "        \n",
    "        texts_augmented.extend(texts_digits)\n",
    "        texts_augmented.extend(texts_keystroke)\n",
    "        texts_augmented.extend(texts_entity_replace)\n",
    "        \n",
    "    \n",
    "        for text in texts_augmented:\n",
    "            data_augmented.append((text, annotations))\n",
    "    \n",
    "    return data_augmented "
   ]
  },
  {
   "cell_type": "code",
   "execution_count": 65,
   "id": "33c625c6",
   "metadata": {},
   "outputs": [],
   "source": [
    "train_data = augment_data(train_data)\n",
    "valid_data = augment_data(valid_data)\n",
    "test_data = augment_data(test_data)"
   ]
  },
  {
   "cell_type": "code",
   "execution_count": 66,
   "id": "822c0626",
   "metadata": {},
   "outputs": [
    {
     "data": {
      "text/plain": [
       "(4884, 1698, 780)"
      ]
     },
     "execution_count": 66,
     "metadata": {},
     "output_type": "execute_result"
    }
   ],
   "source": [
    "len(train_data), len(valid_data), len(test_data)"
   ]
  },
  {
   "cell_type": "code",
   "execution_count": 68,
   "id": "1ec32001",
   "metadata": {},
   "outputs": [],
   "source": [
    "nlp = spacy.blank(\"ru\")\n",
    "        \n",
    "        \n",
    "def create_spacy_object(data, savepath, mode):\n",
    "    \n",
    "    db = DocBin()\n",
    "    erros_overlapping_entities = 0\n",
    "    for i, (text, annotations) in enumerate(data):\n",
    "        if type(text) == str:\n",
    "            doc = nlp(text)\n",
    "            ents = []\n",
    "            if len(annotations):\n",
    "                for start, end, label in annotations:\n",
    "                    span = doc.char_span(start, end, label=label)\n",
    "                    if span:\n",
    "                        ents.append(span)\n",
    "            \n",
    "#             try:\n",
    "            doc.spans[\"txs\"] = ents\n",
    "#             except ValueError:\n",
    "#                 erros_overlapping_entities += 1\n",
    "#                 continue    \n",
    "            db.add(doc)\n",
    "        else:\n",
    "            print(text, annotations)\n",
    "    \n",
    "    dbpath = f\"{savepath}/{mode}.spacy\"\n",
    "    db.to_disk(dbpath)\n",
    "    print(f\"Saved to {dbpath}. {erros_overlapping_entities} Docs were not processed\")\n",
    "    return db"
   ]
  },
  {
   "cell_type": "code",
   "execution_count": 70,
   "id": "6ff9552e",
   "metadata": {},
   "outputs": [
    {
     "name": "stdout",
     "output_type": "stream",
     "text": [
      "Saved to ../../data/ner/custom/train.spacy. 0 Docs were not processed\n",
      "Saved to ../../data/ner/custom/valid.spacy. 0 Docs were not processed\n",
      "Saved to ../../data/ner/custom/test.spacy. 0 Docs were not processed\n"
     ]
    }
   ],
   "source": [
    "db_train = create_spacy_object(\n",
    "    data=train_data,\n",
    "    savepath=spacypath,\n",
    "    mode=\"train\"\n",
    ")\n",
    "\n",
    "db_valid = create_spacy_object(\n",
    "    data=valid_data,\n",
    "    savepath=spacypath,\n",
    "    mode=\"valid\"\n",
    ")\n",
    "\n",
    "db_test = create_spacy_object(\n",
    "    data=test_data,\n",
    "    savepath=spacypath,\n",
    "    mode=\"test\"\n",
    ")"
   ]
  },
  {
   "cell_type": "code",
   "execution_count": 71,
   "id": "cd52fe1f",
   "metadata": {},
   "outputs": [
    {
     "data": {
      "text/plain": [
       "(4884, 1698, 780)"
      ]
     },
     "execution_count": 71,
     "metadata": {},
     "output_type": "execute_result"
    }
   ],
   "source": [
    "len(db_train), len(db_valid), len(db_test)"
   ]
  },
  {
   "cell_type": "markdown",
   "id": "d4e95912",
   "metadata": {},
   "source": [
    "# Create config"
   ]
  },
  {
   "cell_type": "code",
   "execution_count": null,
   "id": "05d0f3a5",
   "metadata": {},
   "outputs": [],
   "source": [
    "%%bash\n",
    "\n",
    "python -m spacy init fill-config base_config.cfg config.cfg"
   ]
  },
  {
   "cell_type": "markdown",
   "id": "07aada19",
   "metadata": {},
   "source": [
    "# Run training (better in comand line)"
   ]
  },
  {
   "cell_type": "code",
   "execution_count": null,
   "id": "68d2be73",
   "metadata": {},
   "outputs": [],
   "source": [
    "%%bash\n",
    "\n",
    "python -m spacy train config.cfg --gpu-id 0 --output ./output --paths.train ./spacy/train.spacy --paths.dev ./spacy/valid.spacy"
   ]
  }
 ],
 "metadata": {
  "kernelspec": {
   "display_name": "Python 3 (ipykernel)",
   "language": "python",
   "name": "python3"
  },
  "language_info": {
   "codemirror_mode": {
    "name": "ipython",
    "version": 3
   },
   "file_extension": ".py",
   "mimetype": "text/x-python",
   "name": "python",
   "nbconvert_exporter": "python",
   "pygments_lexer": "ipython3",
   "version": "3.8.13"
  }
 },
 "nbformat": 4,
 "nbformat_minor": 5
}

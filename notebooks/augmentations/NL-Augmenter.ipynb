{
 "cells": [
  {
   "cell_type": "code",
   "execution_count": 23,
   "id": "73ac1d4c",
   "metadata": {},
   "outputs": [],
   "source": [
    "from pathlib import Path\n",
    "import random\n",
    "\n",
    "import pandas as pd\n",
    "from tqdm import tqdm\n",
    "\n",
    "import nlaugmenter"
   ]
  },
  {
   "cell_type": "markdown",
   "id": "06dd923a",
   "metadata": {},
   "source": [
    "# Load Data"
   ]
  },
  {
   "cell_type": "code",
   "execution_count": 16,
   "id": "d7d9eaa4",
   "metadata": {},
   "outputs": [],
   "source": [
    "seed = 23 # 23 42 24666\n",
    "init_df_path = Path(f\"../../data/classification/baseline/train_{seed}.csv\")\n",
    "output_folder = Path(f\"../../data/classification/nlaugmenter\")\n",
    "text_column = \"Текст\"\n",
    "label_column = \"Тональность\""
   ]
  },
  {
   "cell_type": "code",
   "execution_count": 36,
   "id": "3121c7d6",
   "metadata": {},
   "outputs": [
    {
     "name": "stdout",
     "output_type": "stream",
     "text": [
      "(11668, 4)\n"
     ]
    }
   ],
   "source": [
    "df = pd.read_csv(init_df_path)\n",
    "print(df.shape)\n",
    "\n",
    "\n",
    "texts, labels = [], []\n",
    "texts.extend(df[text_column].tolist())\n",
    "labels.extend(df[label_column].tolist())"
   ]
  },
  {
   "cell_type": "markdown",
   "id": "fc7c0ba0",
   "metadata": {},
   "source": [
    "# NL Augmenter"
   ]
  },
  {
   "cell_type": "code",
   "execution_count": 29,
   "id": "276377f3",
   "metadata": {},
   "outputs": [],
   "source": [
    "# from nlaugmenter import transformations\n",
    "# help(transformations)"
   ]
  },
  {
   "cell_type": "code",
   "execution_count": 30,
   "id": "5d08c0ca",
   "metadata": {},
   "outputs": [],
   "source": [
    "from nlaugmenter.transformations.multilingual_lexicon_perturbation.transformation import MultilingualLexiconPerturbation\n",
    "from nlaugmenter.transformations.multilingual_back_translation.transformation import MultilingualBackTranslation\n",
    "from nlaugmenter.transformations.swap_characters.transformation import SwapCharactersPerturbation\n",
    "from nlaugmenter.transformations.underscore_trick.transformation import UnderscoreTrick\n",
    "from nlaugmenter.transformations.visual_attack_letters.transformation import VisualAttackLetters\n",
    "from nlaugmenter.transformations.whitespace_perturbation.transformation import WhitespacePerturbation"
   ]
  },
  {
   "cell_type": "code",
   "execution_count": 31,
   "id": "14af4487",
   "metadata": {},
   "outputs": [
    {
     "name": "stderr",
     "output_type": "stream",
     "text": [
      "[nltk_data] Downloading package punkt to /Users/a18692338/nltk_data...\n",
      "[nltk_data]   Package punkt is already up-to-date!\n"
     ]
    }
   ],
   "source": [
    "transformation_mlp = MultilingualLexiconPerturbation(mlt_src_lang='en', mlt_tgt_lang='ru',prob_mix=0.9, seed=seed)\n",
    "transformation_mlbt = MultilingualBackTranslation(src_lang='ru', pivot_lang='en')\n",
    "transformation_swap = SwapCharactersPerturbation()\n",
    "transformation_visual = VisualAttackLetters(perturb_pct=0.2)\n",
    "transformation_wspace = WhitespacePerturbation()"
   ]
  },
  {
   "cell_type": "code",
   "execution_count": 35,
   "id": "0206ef5f",
   "metadata": {},
   "outputs": [],
   "source": [
    "def do_augmentations(text, augmenters):\n",
    "    \n",
    "    augmenter = random.choice(augmenters)\n",
    "        \n",
    "    text_augmented = augmenter.generate(text)[0]        \n",
    "\n",
    "    return text_augmented"
   ]
  },
  {
   "cell_type": "code",
   "execution_count": 37,
   "id": "6768c40d",
   "metadata": {},
   "outputs": [
    {
     "name": "stderr",
     "output_type": "stream",
     "text": [
      "11668it [00:24, 479.00it/s]"
     ]
    },
    {
     "name": "stdout",
     "output_type": "stream",
     "text": [
      "Failed 0 times.\n",
      "23336 23336\n"
     ]
    },
    {
     "name": "stderr",
     "output_type": "stream",
     "text": [
      "\n"
     ]
    }
   ],
   "source": [
    "AUGMENTERS = [\n",
    "    transformation_mlp,\n",
    "    transformation_mlbt,\n",
    "    transformation_swap,\n",
    "    transformation_visual,\n",
    "    transformation_wspace\n",
    "]\n",
    "fails = 0\n",
    "\n",
    "for i, raw in tqdm(df.iterrows()):\n",
    "    \n",
    "    text, label = raw[text_column], raw[label_column]\n",
    "    try:\n",
    "        new_text = do_augmentations(text, augmenters=AUGMENTERS)\n",
    "        texts.append(new_text)\n",
    "        labels.append(label)\n",
    "    except:\n",
    "        print(f\"Fail: {text}\")\n",
    "        fails += 1\n",
    "    \n",
    "print(f\"Failed {fails} times.\")\n",
    "print(len(texts), len(labels))"
   ]
  },
  {
   "cell_type": "code",
   "execution_count": 40,
   "id": "d17e9539",
   "metadata": {},
   "outputs": [
    {
     "name": "stdout",
     "output_type": "stream",
     "text": [
      "(23336, 2)\n"
     ]
    }
   ],
   "source": [
    "df_done = pd.DataFrame()\n",
    "\n",
    "df_done[text_column] = texts\n",
    "df_done[label_column] = labels\n",
    "\n",
    "print(df_done.shape)\n",
    "df_done.tail(10)"
   ]
  },
  {
   "cell_type": "code",
   "execution_count": 39,
   "id": "2069c0b2",
   "metadata": {},
   "outputs": [],
   "source": [
    "df_done.to_csv(output_folder / f\"train_{seed}.csv\", index=False, encoding=\"utf-8\")"
   ]
  },
  {
   "cell_type": "code",
   "execution_count": null,
   "id": "43e6cb5b",
   "metadata": {},
   "outputs": [],
   "source": []
  }
 ],
 "metadata": {
  "kernelspec": {
   "display_name": "diploma",
   "language": "python",
   "name": "diploma"
  },
  "language_info": {
   "codemirror_mode": {
    "name": "ipython",
    "version": 3
   },
   "file_extension": ".py",
   "mimetype": "text/x-python",
   "name": "python",
   "nbconvert_exporter": "python",
   "pygments_lexer": "ipython3",
   "version": "3.8.13"
  }
 },
 "nbformat": 4,
 "nbformat_minor": 5
}

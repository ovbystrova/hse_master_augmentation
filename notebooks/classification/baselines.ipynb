{
 "cells": [
  {
   "cell_type": "markdown",
   "id": "7d4ce72b",
   "metadata": {},
   "source": [
    "# Tf-Idf Baseline"
   ]
  },
  {
   "cell_type": "code",
   "execution_count": 1,
   "id": "c7d17c76",
   "metadata": {
    "scrolled": true
   },
   "outputs": [],
   "source": [
    "import text_clf\n",
    "\n",
    "model, target_names_mapping = text_clf.train(path_to_config=\"config.yaml\")"
   ]
  },
  {
   "cell_type": "markdown",
   "id": "4350473f",
   "metadata": {},
   "source": [
    "# Rubert-Tiny"
   ]
  },
  {
   "cell_type": "code",
   "execution_count": null,
   "id": "21d8e29c",
   "metadata": {},
   "outputs": [],
   "source": [
    "!bert-clf-train --path_to_config config_ruberttiny.yaml"
   ]
  },
  {
   "cell_type": "markdown",
   "id": "1bc6de91",
   "metadata": {},
   "source": [
    "# RuBERT"
   ]
  },
  {
   "cell_type": "code",
   "execution_count": null,
   "id": "5c937f96",
   "metadata": {},
   "outputs": [],
   "source": [
    "!bert-clf-train --path_to_config config_rubert.yaml"
   ]
  }
 ],
 "metadata": {
  "kernelspec": {
   "display_name": "diploma",
   "language": "python",
   "name": "diploma"
  },
  "language_info": {
   "codemirror_mode": {
    "name": "ipython",
    "version": 3
   },
   "file_extension": ".py",
   "mimetype": "text/x-python",
   "name": "python",
   "nbconvert_exporter": "python",
   "pygments_lexer": "ipython3",
   "version": "3.8.13"
  }
 },
 "nbformat": 4,
 "nbformat_minor": 5
}

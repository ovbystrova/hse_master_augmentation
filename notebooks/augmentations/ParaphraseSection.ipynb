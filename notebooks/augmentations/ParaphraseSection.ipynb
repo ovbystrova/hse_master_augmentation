{
 "cells": [
  {
   "cell_type": "code",
   "execution_count": 8,
   "id": "546d874c",
   "metadata": {},
   "outputs": [],
   "source": [
    "from pathlib import Path\n",
    "\n",
    "import pandas as pd\n",
    "from tqdm import tqdm"
   ]
  },
  {
   "cell_type": "code",
   "execution_count": 3,
   "id": "a3559f20",
   "metadata": {},
   "outputs": [],
   "source": [
    "seed = 23 # 23 42 24666\n",
    "init_df_path = Path(f\"../../data/classification/baseline/train_{seed}.csv\")\n",
    "output_folder = Path(f\"../../data/classification/back_translation\")\n",
    "text_column = \"Текст\"\n",
    "label_column = \"Тональность\""
   ]
  },
  {
   "cell_type": "code",
   "execution_count": 4,
   "id": "dd8a1b7c",
   "metadata": {},
   "outputs": [
    {
     "name": "stdout",
     "output_type": "stream",
     "text": [
      "(11668, 4)\n"
     ]
    }
   ],
   "source": [
    "df = pd.read_csv(init_df_path)\n",
    "print(df.shape)\n",
    "\n",
    "\n",
    "texts, labels = [], []\n",
    "texts.extend(df[text_column].tolist())\n",
    "labels.extend(df[label_column].tolist())"
   ]
  },
  {
   "cell_type": "code",
   "execution_count": null,
   "id": "8d842c55",
   "metadata": {},
   "outputs": [],
   "source": [
    "# df_done = pd.read_csv(output_folder / f\"train_{seed}.csv\")\n",
    "# print(df_done.shape)\n",
    "\n",
    "# texts.extend(df_done[text_column])\n",
    "# labels.extend(df_done[label_column])"
   ]
  },
  {
   "cell_type": "markdown",
   "id": "8e4aa995",
   "metadata": {},
   "source": [
    "# GPT ParaPhraser"
   ]
  },
  {
   "cell_type": "code",
   "execution_count": 5,
   "id": "cc000d8f",
   "metadata": {
    "scrolled": true
   },
   "outputs": [],
   "source": [
    "# pip install git+https://github.com/RussianNLP/russian_paraphrasers@master"
   ]
  },
  {
   "cell_type": "code",
   "execution_count": 6,
   "id": "5d689e18",
   "metadata": {},
   "outputs": [
    {
     "data": {
      "application/vnd.jupyter.widget-view+json": {
       "model_id": "0bee5cb196994c319c733e1b2f665c9f",
       "version_major": 2,
       "version_minor": 0
      },
      "text/plain": [
       "HBox(children=(FloatProgress(value=0.0, description='Downloading', max=1811625.0, style=ProgressStyle(descript…"
      ]
     },
     "metadata": {},
     "output_type": "display_data"
    },
    {
     "name": "stdout",
     "output_type": "stream",
     "text": [
      "\n"
     ]
    },
    {
     "data": {
      "application/vnd.jupyter.widget-view+json": {
       "model_id": "7776545ddcc94fce9a292956aa77df7a",
       "version_major": 2,
       "version_minor": 0
      },
      "text/plain": [
       "HBox(children=(FloatProgress(value=0.0, description='Downloading', max=1369443.0, style=ProgressStyle(descript…"
      ]
     },
     "metadata": {},
     "output_type": "display_data"
    },
    {
     "name": "stdout",
     "output_type": "stream",
     "text": [
      "\n"
     ]
    },
    {
     "data": {
      "application/vnd.jupyter.widget-view+json": {
       "model_id": "62b12f68fe1340c79fc1cd72698c9374",
       "version_major": 2,
       "version_minor": 0
      },
      "text/plain": [
       "HBox(children=(FloatProgress(value=0.0, description='Downloading', max=357.0, style=ProgressStyle(description_…"
      ]
     },
     "metadata": {},
     "output_type": "display_data"
    },
    {
     "name": "stdout",
     "output_type": "stream",
     "text": [
      "\n"
     ]
    },
    {
     "data": {
      "application/vnd.jupyter.widget-view+json": {
       "model_id": "1771eaf8a44f4a9891e9e907b42db3cd",
       "version_major": 2,
       "version_minor": 0
      },
      "text/plain": [
       "HBox(children=(FloatProgress(value=0.0, description='Downloading', max=486.0, style=ProgressStyle(description_…"
      ]
     },
     "metadata": {},
     "output_type": "display_data"
    },
    {
     "name": "stdout",
     "output_type": "stream",
     "text": [
      "\n"
     ]
    },
    {
     "data": {
      "application/vnd.jupyter.widget-view+json": {
       "model_id": "949af8be60be4ef08e0658a3e647490f",
       "version_major": 2,
       "version_minor": 0
      },
      "text/plain": [
       "HBox(children=(FloatProgress(value=0.0, description='Downloading', max=765.0, style=ProgressStyle(description_…"
      ]
     },
     "metadata": {},
     "output_type": "display_data"
    },
    {
     "name": "stdout",
     "output_type": "stream",
     "text": [
      "\n"
     ]
    },
    {
     "data": {
      "application/vnd.jupyter.widget-view+json": {
       "model_id": "2eeea5ff8227462eaf8394770a449d62",
       "version_major": 2,
       "version_minor": 0
      },
      "text/plain": [
       "HBox(children=(FloatProgress(value=0.0, description='Downloading', max=3133973018.0, style=ProgressStyle(descr…"
      ]
     },
     "metadata": {},
     "output_type": "display_data"
    },
    {
     "name": "stdout",
     "output_type": "stream",
     "text": [
      "\n"
     ]
    }
   ],
   "source": [
    "from russian_paraphrasers import GPTParaphraser\n",
    "\n",
    "paraphraser = GPTParaphraser(model_name=\"gpt2\", range_cand=False, make_eval=False)"
   ]
  },
  {
   "cell_type": "code",
   "execution_count": 13,
   "id": "6cefc7f5",
   "metadata": {},
   "outputs": [],
   "source": [
    "fails = 0\n",
    "\n",
    "for i, raw in tqdm(df.iterrows()):\n",
    "    \n",
    "    text, label = raw[text_column], raw[label_column]\n",
    "    try:\n",
    "        new_text = paraphraser.generate(\n",
    "            text, n=1, temperature=0.7, \n",
    "            top_k=10, top_p=0.9, \n",
    "            max_length=50, repetition_penalty=1.5,\n",
    "            threshold=0.9\n",
    "        )[\"results\"][0]\n",
    "\n",
    "\n",
    "        texts.append(new_text)\n",
    "        labels.append(label)\n",
    "        \n",
    "    except:\n",
    "        print(f\"Fail: {text}\")\n",
    "        fails += 1\n",
    "    \n",
    "print(f\"Failed {fails} times.\")\n",
    "print(len(texts), len(labels))"
   ]
  },
  {
   "cell_type": "markdown",
   "id": "0e4e0538",
   "metadata": {},
   "source": [
    "# MT 5"
   ]
  },
  {
   "cell_type": "code",
   "execution_count": 14,
   "id": "6975e653",
   "metadata": {},
   "outputs": [],
   "source": [
    "from russian_paraphrasers import Mt5Paraphraser"
   ]
  },
  {
   "cell_type": "code",
   "execution_count": null,
   "id": "9d499531",
   "metadata": {},
   "outputs": [
    {
     "data": {
      "application/vnd.jupyter.widget-view+json": {
       "model_id": "592ea7df76f448a186d14a52da1120fb",
       "version_major": 2,
       "version_minor": 0
      },
      "text/plain": [
       "HBox(children=(FloatProgress(value=0.0, description='Downloading', max=619.0, style=ProgressStyle(description_…"
      ]
     },
     "metadata": {},
     "output_type": "display_data"
    },
    {
     "name": "stdout",
     "output_type": "stream",
     "text": [
      "\n"
     ]
    },
    {
     "data": {
      "application/vnd.jupyter.widget-view+json": {
       "model_id": "0ec82b4b0bcb46f8acb4f290039a085e",
       "version_major": 2,
       "version_minor": 0
      },
      "text/plain": [
       "HBox(children=(FloatProgress(value=0.0, description='Downloading', max=4918432996.0, style=ProgressStyle(descr…"
      ]
     },
     "metadata": {},
     "output_type": "display_data"
    }
   ],
   "source": [
    "paraphraser = Mt5Paraphraser(model_name=\"mt5-large\", range_cand=False, make_eval=False)"
   ]
  },
  {
   "cell_type": "code",
   "execution_count": null,
   "id": "e42d4fa8",
   "metadata": {},
   "outputs": [],
   "source": [
    "fails = 0\n",
    "\n",
    "for i, raw in tqdm(df.iterrows()):\n",
    "    \n",
    "    text, label = raw[text_column], raw[label_column]\n",
    "    try:\n",
    "        new_text = paraphraser.generate(\n",
    "            text, n=1, temperature=0.7, \n",
    "            top_k=10, top_p=0.9, \n",
    "            max_length=50, repetition_penalty=1.5,\n",
    "            threshold=0.9\n",
    "        )[\"results\"][0]\n",
    "\n",
    "\n",
    "        texts.append(new_text)\n",
    "        labels.append(label)\n",
    "        \n",
    "    except:\n",
    "        print(f\"Fail: {text}\")\n",
    "        fails += 1\n",
    "    \n",
    "print(f\"Failed {fails} times.\")\n",
    "print(len(texts), len(labels))"
   ]
  },
  {
   "cell_type": "markdown",
   "id": "36d8306a",
   "metadata": {},
   "source": [
    "# Final DF"
   ]
  },
  {
   "cell_type": "code",
   "execution_count": null,
   "id": "679c8dd2",
   "metadata": {},
   "outputs": [],
   "source": [
    "df_done = pd.DataFrame()\n",
    "\n",
    "df_done[text_column] = texts\n",
    "df_done[label_column] = labels\n",
    "\n",
    "print(df_done.shape)\n",
    "df_done.tail(10)"
   ]
  },
  {
   "cell_type": "code",
   "execution_count": null,
   "id": "45a417cb",
   "metadata": {},
   "outputs": [],
   "source": [
    "df_done.to_csv(output_folder / f\"train_{seed}.csv\", index=False, encoding=\"utf-8\")"
   ]
  }
 ],
 "metadata": {
  "kernelspec": {
   "display_name": "diploma",
   "language": "python",
   "name": "diploma"
  },
  "language_info": {
   "codemirror_mode": {
    "name": "ipython",
    "version": 3
   },
   "file_extension": ".py",
   "mimetype": "text/x-python",
   "name": "python",
   "nbconvert_exporter": "python",
   "pygments_lexer": "ipython3",
   "version": "3.8.13"
  }
 },
 "nbformat": 4,
 "nbformat_minor": 5
}

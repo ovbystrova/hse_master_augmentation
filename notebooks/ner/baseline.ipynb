{
 "cells": [
  {
   "cell_type": "code",
   "execution_count": 1,
   "id": "6c3996bd",
   "metadata": {},
   "outputs": [],
   "source": [
    "from ast import literal_eval\n",
    "import os\n",
    "\n",
    "import pandas as pd\n",
    "\n",
    "from sklearn.model_selection import train_test_split\n",
    "import spacy\n",
    "from spacy.tokens import DocBin\n",
    "from tqdm import tqdm"
   ]
  },
  {
   "cell_type": "markdown",
   "id": "26a7c14a",
   "metadata": {},
   "source": [
    "# Prepare data and split it"
   ]
  },
  {
   "cell_type": "code",
   "execution_count": 2,
   "id": "58c6d117",
   "metadata": {},
   "outputs": [],
   "source": [
    "#os.makedirs(\"./spacy\")"
   ]
  },
  {
   "cell_type": "code",
   "execution_count": 3,
   "id": "8dbcb60d",
   "metadata": {},
   "outputs": [],
   "source": [
    "train = pd.read_excel(\"../../data/baseline/train.xlsx\", engine=\"openpyxl\")\n",
    "val = pd.read_excel(\"../../data/baseline/val.xlsx\", engine=\"openpyxl\")\n",
    "test = pd.read_excel(\"../../data/baseline/test.xlsx\", engine=\"openpyxl\")"
   ]
  },
  {
   "cell_type": "code",
   "execution_count": 4,
   "id": "e10a5e40",
   "metadata": {},
   "outputs": [
    {
     "name": "stderr",
     "output_type": "stream",
     "text": [
      "100%|██████████| 11233/11233 [00:00<00:00, 18447.73it/s]\n"
     ]
    }
   ],
   "source": [
    "training_data = []\n",
    "\n",
    "for index, row in tqdm(train.iterrows(), total=len(train)):\n",
    "    line = row['line_clean']\n",
    "    ners = literal_eval(row['labels'])\n",
    "    training_data.append((line, ners))"
   ]
  },
  {
   "cell_type": "code",
   "execution_count": 5,
   "id": "6495183a",
   "metadata": {},
   "outputs": [
    {
     "name": "stderr",
     "output_type": "stream",
     "text": [
      "100%|██████████| 3009/3009 [00:00<00:00, 20948.58it/s]\n"
     ]
    }
   ],
   "source": [
    "valid_data = []\n",
    "\n",
    "for index, row in tqdm(val.iterrows(), total=len(val)):\n",
    "    line = row['line_clean']\n",
    "    ners = literal_eval(row['labels'])\n",
    "    valid_data.append((line, ners))"
   ]
  },
  {
   "cell_type": "code",
   "execution_count": 6,
   "id": "aecebb6d",
   "metadata": {},
   "outputs": [
    {
     "name": "stderr",
     "output_type": "stream",
     "text": [
      "100%|██████████| 3441/3441 [00:00<00:00, 20039.54it/s]\n"
     ]
    }
   ],
   "source": [
    "test_data = []\n",
    "\n",
    "for index, row in tqdm(test.iterrows(), total=len(test)):\n",
    "    line = row['line_clean']\n",
    "    ners = literal_eval(row['labels'])\n",
    "    test_data.append((line, ners))"
   ]
  },
  {
   "cell_type": "code",
   "execution_count": 7,
   "id": "744bf246",
   "metadata": {},
   "outputs": [
    {
     "name": "stdout",
     "output_type": "stream",
     "text": [
      "nan []\n"
     ]
    }
   ],
   "source": [
    "\n",
    "\n",
    "nlp = spacy.blank(\"ru\")\n",
    "\n",
    "# the DocBin will store the example documents\n",
    "db = DocBin()\n",
    "for text, annotations in training_data:\n",
    "    if type(text) == str:\n",
    "        doc = nlp(text)\n",
    "        ents = []\n",
    "        if len(annotations):\n",
    "            for start, end, label in annotations:\n",
    "                span = doc.char_span(start, end, label=label)\n",
    "                if span:\n",
    "                    ents.append(span)\n",
    "        doc.ents = ents\n",
    "        db.add(doc)\n",
    "    else:\n",
    "        print(text, annotations)\n",
    "db.to_disk(\"./spacy/train.spacy\")"
   ]
  },
  {
   "cell_type": "code",
   "execution_count": 8,
   "id": "4364b048",
   "metadata": {},
   "outputs": [],
   "source": [
    "db = DocBin()\n",
    "for text, annotations in valid_data:\n",
    "    if type(text) == str:\n",
    "        doc = nlp(text)\n",
    "        ents = []\n",
    "        if len(annotations):\n",
    "            for start, end, label in annotations:\n",
    "                span = doc.char_span(start, end, label=label)\n",
    "                if span:\n",
    "                    ents.append(span)\n",
    "        doc.ents = ents\n",
    "        db.add(doc)\n",
    "    else:\n",
    "        print(text, annotations)\n",
    "db.to_disk(\"./spacy/valid.spacy\")"
   ]
  },
  {
   "cell_type": "code",
   "execution_count": 9,
   "id": "3942ddf8",
   "metadata": {},
   "outputs": [],
   "source": [
    "db = DocBin()\n",
    "for text, annotations in test_data:\n",
    "    if type(text) == str:\n",
    "        doc = nlp(text)\n",
    "        ents = []\n",
    "        if len(annotations):\n",
    "            for start, end, label in annotations:\n",
    "                span = doc.char_span(start, end, label=label)\n",
    "                if span:\n",
    "                    ents.append(span)\n",
    "        doc.ents = ents\n",
    "        db.add(doc)\n",
    "    else:\n",
    "        print(text, annotations)\n",
    "db.to_disk(\"./spacy/test.spacy\")"
   ]
  },
  {
   "cell_type": "markdown",
   "id": "d4e95912",
   "metadata": {},
   "source": [
    "# Create config"
   ]
  },
  {
   "cell_type": "code",
   "execution_count": null,
   "id": "05d0f3a5",
   "metadata": {},
   "outputs": [],
   "source": [
    "%%bash\n",
    "\n",
    "python -m spacy init fill-config base_config.cfg config.cfg"
   ]
  },
  {
   "cell_type": "markdown",
   "id": "07aada19",
   "metadata": {},
   "source": [
    "# Run training (better in comand line)"
   ]
  },
  {
   "cell_type": "code",
   "execution_count": null,
   "id": "68d2be73",
   "metadata": {},
   "outputs": [],
   "source": [
    "%%bash\n",
    "\n",
    "python -m spacy train config.cfg --gpu-id 0 --output ./output --paths.train ./spacy/train.spacy --paths.dev ./spacy/valid.spacy"
   ]
  }
 ],
 "metadata": {
  "kernelspec": {
   "display_name": "Python 3 (ipykernel)",
   "language": "python",
   "name": "python3"
  },
  "language_info": {
   "codemirror_mode": {
    "name": "ipython",
    "version": 3
   },
   "file_extension": ".py",
   "mimetype": "text/x-python",
   "name": "python",
   "nbconvert_exporter": "python",
   "pygments_lexer": "ipython3",
   "version": "3.8.13"
  }
 },
 "nbformat": 4,
 "nbformat_minor": 5
}

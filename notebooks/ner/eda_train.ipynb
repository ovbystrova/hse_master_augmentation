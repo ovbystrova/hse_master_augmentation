{
 "cells": [
  {
   "cell_type": "code",
   "execution_count": 96,
   "id": "86e674db",
   "metadata": {},
   "outputs": [],
   "source": [
    "import ast\n",
    "from pathlib import Path\n",
    "\n",
    "from ipymarkup import show_span_line_markup, show_span_box_markup\n",
    "import pandas as pd"
   ]
  },
  {
   "cell_type": "code",
   "execution_count": 326,
   "id": "616fd695",
   "metadata": {},
   "outputs": [],
   "source": [
    "dffile = Path(\"../../data/ner/baseline/train.xlsx\")\n",
    "\n",
    "if not dffile.exists():\n",
    "    print(f\"No file at {dffile}\")"
   ]
  },
  {
   "cell_type": "markdown",
   "id": "36258056",
   "metadata": {},
   "source": [
    "# Load Data"
   ]
  },
  {
   "cell_type": "code",
   "execution_count": 338,
   "id": "a247f60d",
   "metadata": {},
   "outputs": [
    {
     "name": "stdout",
     "output_type": "stream",
     "text": [
      "(814, 7)\n"
     ]
    }
   ],
   "source": [
    "df = pd.read_excel(dffile, engine=\"openpyxl\")\n",
    "df.dropna(subset=[\"markup\", \"markup_classicNER\"], inplace=True)\n",
    "df[\"markup\"] = df[\"markup\"].apply(ast.literal_eval)\n",
    "df[\"markup_classicNER\"] = df[\"markup_classicNER\"].apply(ast.literal_eval)\n",
    "df[\"glued_markup\"] = df[\"glued_markup\"].apply(ast.literal_eval)\n",
    "print(df.shape)\n",
    "df.head()"
   ]
  },
  {
   "cell_type": "code",
   "execution_count": 328,
   "id": "e09576c6",
   "metadata": {},
   "outputs": [],
   "source": [
    "def display_n_docs(df, n=10, random_state=777):\n",
    "    \"\"\"\n",
    "    Helper function to visualize the markup with bboxes\n",
    "    \"\"\"\n",
    "    \n",
    "    _df = df.sample(\n",
    "        n=n,     \n",
    "        random_state=random_state\n",
    "    )\n",
    "    \n",
    "    for i, row in _df.iterrows():\n",
    "        \n",
    "        doc_name, text, spans = row[\"doc_name\"], row[\"text\"], row[\"markup\"]\n",
    "        \n",
    "        print(f\"Showing {doc_name}\")\n",
    "        show_span_line_markup(text, spans) "
   ]
  },
  {
   "cell_type": "code",
   "execution_count": 337,
   "id": "67c31cdc",
   "metadata": {
    "scrolled": true
   },
   "outputs": [],
   "source": [
    "# DOCS_TO_DISPLAY = 10\n",
    "\n",
    "# display_n_docs(\n",
    "#     df=df,\n",
    "#     n=DOCS_TO_DISPLAY,\n",
    "# )"
   ]
  },
  {
   "cell_type": "markdown",
   "id": "b6bb7357",
   "metadata": {},
   "source": [
    "# Fix Markup (Skip If alreadyd did it)"
   ]
  },
  {
   "cell_type": "code",
   "execution_count": 312,
   "id": "46950ab1",
   "metadata": {},
   "outputs": [],
   "source": [
    "# Join Overlapping Entities to work with Augmenty\n",
    "\n",
    "def heuristic_filter_zeros(entities, text):\n",
    "    \n",
    "    entities_filtered = []\n",
    "    \n",
    "    for entity  in entities:\n",
    "        \n",
    "        start, end, label = entity[0], entity[1], entity[2]\n",
    "        value = text[start:end]\n",
    "        \n",
    "        if value == \"0,00\":\n",
    "            continue\n",
    "                        \n",
    "        entities_filtered.append(entity)\n",
    "    \n",
    "    return entities_filtered\n",
    "\n",
    "\n",
    "def merge_close_entities(entities, text):\n",
    "    \n",
    "    entities_merged = []\n",
    "    entities_merged.append(entities[0])\n",
    "    \n",
    "    entities.sort(key= lambda x: (x[2], x[0]))\n",
    "    \n",
    "    for i in range(1, len(entities)):\n",
    "        \n",
    "        start, end, label = entities[i][0], entities[i][1], entities[i][2]\n",
    "        start_prev_entity, end_prev_entity, label_prev_entity = entities[i-1][0], entities[i-1][1], entities[i-1][2]\n",
    "            \n",
    "        if start == end_prev_entity+1 and label == label_prev_entity:\n",
    "            \n",
    "            if \",\" in text[start:end] and \",\" in text[start_prev_entity:end_prev_entity]:\n",
    "                entities_merged.append(entities[i])\n",
    "            \n",
    "            else:\n",
    "                entity_merged = (start_prev_entity, end, label)\n",
    "                entities_merged.pop(-1)\n",
    "                entities_merged.append(entity_merged)\n",
    "            \n",
    "        else:\n",
    "            \n",
    "            entities_merged.append(entities[i])    \n",
    "    \n",
    "    return entities_merged\n",
    "\n",
    "\n",
    "def join_overlap_entities(entities, text):\n",
    "\n",
    "    def _calculate_overlap(start, end, initial_range):\n",
    "        \n",
    "        entity_range = set(list(range(start, end+1)))\n",
    "        initial_range = set(initial_range)\n",
    "        \n",
    "        overlap = len(entity_range & initial_range) / len(entity_range | initial_range)\n",
    "#         print(f\"{entity_range}_{entity_range}: {overlap}\")\n",
    "        \n",
    "        return overlap\n",
    "    \n",
    "    entities_joined = []\n",
    "    entities.sort(key=lambda x: (x[0], x[2]))\n",
    "    \n",
    "    for i in range(len(entities)):\n",
    "        \n",
    "        if i > len(entities) -1:\n",
    "            break\n",
    "    \n",
    "        start, end, label = entities[i][0], entities[i][1], entities[i][2]\n",
    "        entity_range = list(range(start, end+1))\n",
    "        \n",
    "        entities_with_overlap = [entity for entity in entities[i:] if _calculate_overlap(\n",
    "            entity[0],\n",
    "            entity[1],\n",
    "            entity_range)\n",
    "                                >=0.7]\n",
    "        \n",
    "        if len(entities_with_overlap) == 1:\n",
    "            entities_joined.append(entities[i])\n",
    "            continue\n",
    "        \n",
    "#         print(f\"Found {len(entities_with_overlap)}\")\n",
    "        \n",
    "        starts = [entity[0] for entity in entities_with_overlap]\n",
    "        ends = [entity[1] for entity in entities_with_overlap]\n",
    "        labels = [entity[2] for entity in entities_with_overlap]\n",
    "        \n",
    "        entity_joined_start = min(starts)\n",
    "        entity_joined_end = max(ends)\n",
    "        entity_joined_label = \"\".join(sorted(labels))        \n",
    "        \n",
    "        entities_joined.append((entity_joined_start, entity_joined_end, entity_joined_label))\n",
    "        \n",
    "        for entity_relevant in entities_with_overlap[1:]:\n",
    "            if entity_relevant in entities:\n",
    "                entities.remove(entity_relevant)\n",
    "                    \n",
    "    return entities_joined\n",
    "\n",
    "\n",
    "def fix_markup(markup, text, do_join=False):\n",
    "    \n",
    "    if markup is None:\n",
    "        return None\n",
    "    \n",
    "    markup = heuristic_filter_zeros(markup, text)\n",
    "    \n",
    "    if len(markup) == 0:\n",
    "        return None\n",
    "    \n",
    "    markup = merge_close_entities(markup, text)\n",
    "    \n",
    "    if do_join:\n",
    "        markup = join_overlap_entities(markup, text)\n",
    "    \n",
    "    return markup"
   ]
  },
  {
   "cell_type": "code",
   "execution_count": 339,
   "id": "db46b16a",
   "metadata": {},
   "outputs": [],
   "source": [
    "# Gather Dataset Again \n",
    "\n",
    "df[\"markup\"] = df.apply(lambda x: fix_markup(x.markup, x.text), axis=1)\n",
    "df[\"markup_classicNER\"] = df.apply(lambda x: fix_markup(x.markup, x.text, do_join=True), axis=1)\n",
    "\n",
    "df.head()"
   ]
  },
  {
   "cell_type": "code",
   "execution_count": 315,
   "id": "aed93dcb",
   "metadata": {},
   "outputs": [],
   "source": [
    "df.to_excel(dffile, index=False, encoding=\"utf-8\")"
   ]
  },
  {
   "cell_type": "markdown",
   "id": "ac76b16f",
   "metadata": {},
   "source": [
    "# EDA Entities"
   ]
  },
  {
   "cell_type": "code",
   "execution_count": 330,
   "id": "2fdc2344",
   "metadata": {},
   "outputs": [
    {
     "data": {
      "text/plain": [
       "ИтоговаяСумма    2822\n",
       "ПоДеталям        1039\n",
       "ПоРаботам        1009\n",
       "Скидки            441\n",
       "СоСкидкой         407\n",
       "СНДС               96\n",
       "dtype: int64"
      ]
     },
     "execution_count": 330,
     "metadata": {},
     "output_type": "execute_result"
    }
   ],
   "source": [
    "# MultiLabel\n",
    "\n",
    "all_entities = []\n",
    "\n",
    "\n",
    "markup = df[\"markup\"].tolist()\n",
    "for m in markup:\n",
    "    labels = [entity[2] for entity in m]\n",
    "    all_entities.extend(labels)\n",
    "    \n",
    "entities = pd.Series(all_entities)\n",
    "entities.value_counts()"
   ]
  },
  {
   "cell_type": "code",
   "execution_count": 333,
   "id": "17ccd4a2",
   "metadata": {
    "scrolled": true
   },
   "outputs": [
    {
     "data": {
      "text/plain": [
       "ИтоговаяСумма                                   904\n",
       "ИтоговаяСуммаПоРаботам                          747\n",
       "ИтоговаяСуммаПоДеталям                          519\n",
       "Скидки                                          232\n",
       "ИтоговаяСуммаПоДеталямСоСкидкой                 221\n",
       "ИтоговаяСуммаПоДеталямСкидки                     96\n",
       "ПоРаботам                                        82\n",
       "ПоДеталям                                        77\n",
       "ИтоговаяСуммаСоСкидкой                           60\n",
       "ИтоговаяСуммаСкидки                              59\n",
       "ИтоговаяСуммаПоРаботамСоСкидкой                  52\n",
       "СоСкидкой                                        40\n",
       "ИтоговаяСуммаПоДеталямПоРаботам                  35\n",
       "ИтоговаяСуммаСНДС                                24\n",
       "ИтоговаяСуммаПоРаботамСНДС                       24\n",
       "ПоДеталямСкидки                                  22\n",
       "ИтоговаяСуммаПоДеталямСНДС                       19\n",
       "ПоРаботамПоРаботамПоРаботам                      14\n",
       "ИтоговаяСуммаПоДеталямСНДССоСкидкой              11\n",
       "ПоДеталямСоСкидкой                               11\n",
       "ИтоговаяСуммаПоРаботамСкидки                      9\n",
       "ПоРаботамСоСкидкой                                9\n",
       "СНДС                                              9\n",
       "СкидкиСкидкиСкидки                                8\n",
       "ПоРаботамПоРаботам                                8\n",
       "ПоДеталямПоДеталямПоДеталям                       4\n",
       "ИтоговаяСуммаПоДеталямПоДеталям                   2\n",
       "ПоДеталямПоРаботам                                2\n",
       "ПоДеталямСНДС                                     2\n",
       "ПоРаботамСНДССНДССНДС                             2\n",
       "ИтоговаяСуммаПоДеталямСНДССкидки                  2\n",
       "ИтоговаяСуммаИтоговаяСуммаПоДеталямПоРаботам      1\n",
       "ПоДеталямПоДеталям                                1\n",
       "ПоРаботамСНДС                                     1\n",
       "ПоДеталямСкидкиСкидки                             1\n",
       "ИтоговаяСуммаПоДеталямПоДеталямСкидки             1\n",
       "ПоРаботамСкидки                                   1\n",
       "ПоРаботамПоРаботамСоСкидкой                       1\n",
       "ПоДеталямПоДеталямПоДеталямСоСкидкой              1\n",
       "ИтоговаяСуммаПоДеталямСкидкиСоСкидкой             1\n",
       "ИтоговаяСуммаИтоговаяСуммаПоРаботам               1\n",
       "dtype: int64"
      ]
     },
     "execution_count": 333,
     "metadata": {},
     "output_type": "execute_result"
    }
   ],
   "source": [
    "# Multiclass\n",
    "\n",
    "all_entities = []\n",
    "\n",
    "\n",
    "markup = df[\"markup_classicNER\"].tolist()\n",
    "for m in markup:\n",
    "    labels = [entity[2] for entity in m]\n",
    "    all_entities.extend(labels)\n",
    "    \n",
    "entities = pd.Series(all_entities)\n",
    "entities.value_counts()"
   ]
  }
 ],
 "metadata": {
  "kernelspec": {
   "display_name": "diploma",
   "language": "python",
   "name": "diploma"
  },
  "language_info": {
   "codemirror_mode": {
    "name": "ipython",
    "version": 3
   },
   "file_extension": ".py",
   "mimetype": "text/x-python",
   "name": "python",
   "nbconvert_exporter": "python",
   "pygments_lexer": "ipython3",
   "version": "3.8.13"
  }
 },
 "nbformat": 4,
 "nbformat_minor": 5
}

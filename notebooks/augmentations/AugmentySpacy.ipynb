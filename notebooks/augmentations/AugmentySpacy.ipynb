{
 "cells": [
  {
   "cell_type": "code",
   "execution_count": 1,
   "id": "6c3996bd",
   "metadata": {},
   "outputs": [],
   "source": [
    "from ast import literal_eval\n",
    "import os\n",
    "from pathlib import Path\n",
    "import pickle\n",
    "\n",
    "import augmenty\n",
    "import pandas as pd\n",
    "from sklearn.model_selection import train_test_split\n",
    "import spacy\n",
    "from spacy.tokens import DocBin\n",
    "from tqdm import tqdm"
   ]
  },
  {
   "cell_type": "code",
   "execution_count": 2,
   "id": "a9046062",
   "metadata": {},
   "outputs": [],
   "source": [
    "spacypath = Path(\"../../data/ner/augmenty\")\n",
    "\n",
    "entities_for_augmenty = Path(\"../../data/ner/augmenty/entities_values.pickle\")\n",
    "\n",
    "train_filepath = Path(\"../../data/ner/baseline/train.xlsx\")\n",
    "valid_filepath = Path(\"../../data/ner/baseline/valid.xlsx\")\n",
    "test_filepath = Path(\"../../data/ner/baseline/test.xlsx\")"
   ]
  },
  {
   "cell_type": "markdown",
   "id": "862a3796",
   "metadata": {},
   "source": [
    "# Augmenty "
   ]
  },
  {
   "cell_type": "code",
   "execution_count": 3,
   "id": "23c2c1f7",
   "metadata": {
    "scrolled": true
   },
   "outputs": [],
   "source": [
    "# augmenters = augmenty.augmenters()\n",
    "\n",
    "# for augmenter in augmenters:\n",
    "#     print(augmenter)\n",
    "\n",
    "# help(augmenty.augmenters()[\"ents_replace.v1\"]) "
   ]
  },
  {
   "cell_type": "code",
   "execution_count": 4,
   "id": "f4b67e50",
   "metadata": {},
   "outputs": [],
   "source": [
    "# Load Augmenters\n",
    "\n",
    "char_replace_random_augmenter = augmenty.load(\"char_replace_random.v1\", level=0.5)\n",
    "char_replace_random_augmenter = augmenty.yield_original(\n",
    "    char_replace_random_augmenter\n",
    ") \n",
    "\n",
    "keystroke_error_augmenter = augmenty.load(\"keystroke_error.v1\", level=0.3, keyboard=\"ru.v1\")\n",
    "keystroke_error_augmenter = augmenty.yield_original(\n",
    "    keystroke_error_augmenter\n",
    ")\n",
    "\n",
    "char_swap_augmenter = augmenty.load(\"char_swap.v1\", level=0.3)\n",
    "char_swap_augmenter = augmenty.yield_original(\n",
    "    char_swap_augmenter\n",
    ")\n",
    "\n",
    "\n",
    "paragraph_subset_augmenter = augmenty.load(\"paragraph_subset_augmenter.v1\")\n",
    "paragraph_subset_augmenter = augmenty.yield_original(\n",
    "    paragraph_subset_augmenter\n",
    ")\n",
    "\n",
    "\n",
    "replace_dict = {\n",
    "    \"0\": [\"1\", \"2\", \"3\", \"4\", \"5\", \"6\", \"7\", \"8\", \"9\"],\n",
    "    \"1\": [\"0\", \"2\", \"3\", \"4\", \"5\", \"6\", \"7\", \"8\", \"9\"],\n",
    "    \"2\": [\"1\", \"0\", \"3\", \"4\", \"5\", \"6\", \"7\", \"8\", \"9\"],\n",
    "    \"3\": [\"1\", \"2\", \"0\", \"4\", \"5\", \"6\", \"7\", \"8\", \"9\"],\n",
    "    \"4\": [\"1\", \"2\", \"3\", \"0\", \"5\", \"6\", \"7\", \"8\", \"9\"],\n",
    "    \"5\": [\"1\", \"2\", \"3\", \"4\", \"0\", \"6\", \"7\", \"8\", \"9\"],\n",
    "    \"6\": [\"1\", \"2\", \"3\", \"4\", \"5\", \"0\", \"7\", \"8\", \"9\"],\n",
    "    \"7\": [\"1\", \"2\", \"3\", \"4\", \"5\", \"6\", \"0\", \"8\", \"9\"],\n",
    "    \"8\": [\"1\", \"2\", \"3\", \"4\", \"5\", \"6\", \"7\", \"0\", \"9\"],\n",
    "    \"9\": [\"1\", \"2\", \"3\", \"4\", \"5\", \"6\", \"7\", \"8\", \"0\"]\n",
    "}\n",
    "char_replace_augmenter = augmenty.load(\"char_replace.v1\", level=0.2, replace=replace_dict)\n",
    "char_replace_augmenter = augmenty.yield_original(\n",
    "    char_replace_augmenter\n",
    ")\n",
    "\n",
    "\n",
    "# Load helper Dict with all entity Values. \n",
    "with open(entities_for_augmenty, 'rb') as f:\n",
    "    entity_values_dict = pickle.load(f)\n",
    "    \n",
    "ents_replace_augmenter = augmenty.load(\"ents_replace.v1\", level=0.5, ent_dict=entity_values_dict)\n",
    "ents_replace_augmenter = augmenty.yield_original(\n",
    "    ents_replace_augmenter\n",
    ")"
   ]
  },
  {
   "cell_type": "markdown",
   "id": "26a7c14a",
   "metadata": {},
   "source": [
    "# Prepare data and split it"
   ]
  },
  {
   "cell_type": "code",
   "execution_count": 5,
   "id": "8dbcb60d",
   "metadata": {},
   "outputs": [],
   "source": [
    "train = pd.read_excel(train_filepath, engine=\"openpyxl\")\n",
    "valid = pd.read_excel(valid_filepath, engine=\"openpyxl\")\n",
    "test = pd.read_excel(test_filepath, engine=\"openpyxl\")"
   ]
  },
  {
   "cell_type": "code",
   "execution_count": 6,
   "id": "f79713f6",
   "metadata": {},
   "outputs": [],
   "source": [
    "label_mapping = {\n",
    "    \"ИтоговаяСумма\": \"ИтоговаяСумма\",\n",
    "    \"ИтоговаяСуммаПоРаботам\": \"ИтоговаяСуммаПоРаботам\",\n",
    "    \"ИтоговаяСуммаПоДеталям\": \"ИтоговаяСуммаПоДеталям\",\n",
    "    \"Скидки\": \"ИтоговаяСуммаСкидки\",\n",
    "    \"ИтоговаяСуммаПоДеталямСоСкидкой\": \"ИтоговаяСуммаПоДеталямСоСкидкой\",\n",
    "    \"ИтоговаяСуммаПоДеталямСкидки\": \"ИтоговаяСуммаСкидкиПоДеталям\",\n",
    "    \"ПоРаботам\": \"ИтоговаяСуммаПоРаботам\",\n",
    "    \"ПоДеталям\": \"ИтоговаяСуммаПоДеталям\",\n",
    "    \"ИтоговаяСуммаСоСкидкой\": \"ИтоговаяСуммаСоСкидкой\",\n",
    "    \"ИтоговаяСуммаСкидки\": \"ИтоговаяСуммаСкидки\",\n",
    "    \"ИтоговаяСуммаПоРаботамСоСкидкой\": \"ИтоговаяСуммаПоРаботамСоСкидкой\"\n",
    "}"
   ]
  },
  {
   "cell_type": "code",
   "execution_count": 7,
   "id": "030d39dc",
   "metadata": {},
   "outputs": [],
   "source": [
    "def create_data(df, textcol=\"text\", labelcol=\"markup_classicNER\"):\n",
    "    \n",
    "    data = []\n",
    "    \n",
    "    for index, row in tqdm(df.iterrows(), total=len(df)):\n",
    "        line = row[textcol]\n",
    "        entities = literal_eval(row[labelcol])\n",
    "\n",
    "        entities_filtered = []\n",
    "        for entity in entities:\n",
    "            start, end, label = entity[0], entity[1], entity[2]\n",
    "\n",
    "            if label not in label_mapping:\n",
    "                continue\n",
    "\n",
    "            entities_filtered.append((start, end, label_mapping[label]))\n",
    "\n",
    "        data.append((line, entities_filtered))\n",
    "    \n",
    "    return data"
   ]
  },
  {
   "cell_type": "code",
   "execution_count": 8,
   "id": "283bd68c",
   "metadata": {},
   "outputs": [
    {
     "name": "stderr",
     "output_type": "stream",
     "text": [
      "100%|███████████████████████████████████████| 814/814 [00:00<00:00, 6980.59it/s]\n",
      "100%|███████████████████████████████████████| 283/283 [00:00<00:00, 6436.50it/s]\n",
      "100%|███████████████████████████████████████| 130/130 [00:00<00:00, 7479.86it/s]\n"
     ]
    }
   ],
   "source": [
    "train_data = create_data(train)\n",
    "valid_data = create_data(valid)\n",
    "test_data = create_data(test)"
   ]
  },
  {
   "cell_type": "code",
   "execution_count": 9,
   "id": "076b4ce7",
   "metadata": {},
   "outputs": [
    {
     "data": {
      "text/plain": [
       "(814, 283, 130)"
      ]
     },
     "execution_count": 9,
     "metadata": {},
     "output_type": "execute_result"
    }
   ],
   "source": [
    "len(train_data), len(valid_data), len(test_data)"
   ]
  },
  {
   "cell_type": "code",
   "execution_count": 12,
   "id": "1ec32001",
   "metadata": {},
   "outputs": [],
   "source": [
    "nlp = spacy.blank(\"ru\")\n",
    "nlp.add_pipe('sentencizer')\n",
    "\n",
    "AUGMENTERS = [\n",
    "    char_replace_random_augmenter,\n",
    "    keystroke_error_augmenter,\n",
    "    char_swap_augmenter,\n",
    "    paragraph_subset_augmenter,\n",
    "    char_replace_augmenter,\n",
    "    ents_replace_augmenter\n",
    "    \n",
    "]\n",
    "\n",
    "# Add augmentations for train data\n",
    "def do_augmentations(doc, augmenters):\n",
    "    \n",
    "    docs = [doc]\n",
    "    augmented_docs = []\n",
    "    for augmenter in augmenters:\n",
    "        _augmented_docs = augmenty.docs(docs, augmenter=augmenter, nlp=nlp)\n",
    "        try:\n",
    "            augmented_docs.extend(_augmented_docs)\n",
    "        except ValueError:\n",
    "            continue\n",
    "        \n",
    "    return augmented_docs\n",
    "\n",
    "\n",
    "\n",
    "def create_spacy_object(data, savepath, mode):\n",
    "    \n",
    "    db = DocBin()\n",
    "    erros_overlapping_entities = 0\n",
    "    for i, (text, annotations) in enumerate(data):\n",
    "        if type(text) == str:\n",
    "            doc = nlp(text)\n",
    "            ents = []\n",
    "            if len(annotations):\n",
    "                for start, end, label in annotations:\n",
    "                    span = doc.char_span(start, end, label=label)\n",
    "                    if span:\n",
    "                        ents.append(span)\n",
    "            \n",
    "            try:\n",
    "                doc.ents = ents\n",
    "            except ValueError:\n",
    "                erros_overlapping_entities += 1\n",
    "                continue\n",
    "            \n",
    "            \n",
    "            db.add(doc)\n",
    "            if mode in [\"train\", \"valid\"]:\n",
    "                augmented_docs = do_augmentations(doc, augmenters=AUGMENTERS)  \n",
    "                for doc in augmented_docs:\n",
    "                    db.add(doc)        \n",
    "                \n",
    "        else:\n",
    "            print(text, annotations)\n",
    "    \n",
    "    dbpath = f\"{savepath}/{mode}.spacy\"\n",
    "    db.to_disk(dbpath)\n",
    "    print(f\"Saved to {dbpath}. {erros_overlapping_entities} Docs were not processed\")\n",
    "    return db"
   ]
  },
  {
   "cell_type": "code",
   "execution_count": 13,
   "id": "6ff9552e",
   "metadata": {},
   "outputs": [
    {
     "name": "stdout",
     "output_type": "stream",
     "text": [
      "Saved to ../../data/ner/augmenty/train.spacy. 71 Docs were not processed\n",
      "Saved to ../../data/ner/augmenty/valid.spacy. 25 Docs were not processed\n",
      "Saved to ../../data/ner/augmenty/test.spacy. 10 Docs were not processed\n"
     ]
    }
   ],
   "source": [
    "db_train = create_spacy_object(\n",
    "    data=train_data,\n",
    "    savepath=spacypath,\n",
    "    mode=\"train\"\n",
    ")\n",
    "\n",
    "db_valid = create_spacy_object(\n",
    "    data=valid_data,\n",
    "    savepath=spacypath,\n",
    "    mode=\"valid\"\n",
    ")\n",
    "\n",
    "db_test = create_spacy_object(\n",
    "    data=test_data,\n",
    "    savepath=spacypath,\n",
    "    mode=\"test\"\n",
    ")"
   ]
  },
  {
   "cell_type": "code",
   "execution_count": 14,
   "id": "cd52fe1f",
   "metadata": {},
   "outputs": [
    {
     "data": {
      "text/plain": [
       "(9503, 3274, 120)"
      ]
     },
     "execution_count": 14,
     "metadata": {},
     "output_type": "execute_result"
    }
   ],
   "source": [
    "len(db_train), len(db_valid), len(db_test)"
   ]
  },
  {
   "cell_type": "markdown",
   "id": "d4e95912",
   "metadata": {},
   "source": [
    "# Create config"
   ]
  },
  {
   "cell_type": "code",
   "execution_count": null,
   "id": "05d0f3a5",
   "metadata": {},
   "outputs": [],
   "source": [
    "%%bash\n",
    "\n",
    "python -m spacy init fill-config base_config.cfg config.cfg"
   ]
  },
  {
   "cell_type": "markdown",
   "id": "07aada19",
   "metadata": {},
   "source": [
    "# Run training (better in comand line)"
   ]
  },
  {
   "cell_type": "code",
   "execution_count": null,
   "id": "68d2be73",
   "metadata": {},
   "outputs": [],
   "source": [
    "%%bash\n",
    "\n",
    "python -m spacy train config.cfg --gpu-id 0 --output ./output --paths.train ./spacy/train.spacy --paths.dev ./spacy/valid.spacy"
   ]
  }
 ],
 "metadata": {
  "kernelspec": {
   "display_name": "Python 3 (ipykernel)",
   "language": "python",
   "name": "python3"
  },
  "language_info": {
   "codemirror_mode": {
    "name": "ipython",
    "version": 3
   },
   "file_extension": ".py",
   "mimetype": "text/x-python",
   "name": "python",
   "nbconvert_exporter": "python",
   "pygments_lexer": "ipython3",
   "version": "3.8.13"
  }
 },
 "nbformat": 4,
 "nbformat_minor": 5
}

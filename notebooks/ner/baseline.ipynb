{
 "cells": [
  {
   "cell_type": "code",
   "execution_count": 1,
   "id": "6c3996bd",
   "metadata": {},
   "outputs": [],
   "source": [
    "from ast import literal_eval\n",
    "import os\n",
    "from pathlib import Path \n",
    "\n",
    "import pandas as pd\n",
    "from sklearn.model_selection import train_test_split\n",
    "import spacy\n",
    "from spacy.tokens import DocBin\n",
    "from tqdm import tqdm"
   ]
  },
  {
   "cell_type": "code",
   "execution_count": 22,
   "id": "a9046062",
   "metadata": {},
   "outputs": [],
   "source": [
    "spacypath = Path(\"../../data/ner/baseline\")\n",
    "\n",
    "train_filepath = Path(\"../../data/ner/baseline/train.xlsx\")\n",
    "valid_filepath = Path(\"../../data/ner/baseline/valid.xlsx\")\n",
    "test_filepath = Path(\"../../data/ner/baseline/test.xlsx\")"
   ]
  },
  {
   "cell_type": "markdown",
   "id": "26a7c14a",
   "metadata": {},
   "source": [
    "# Prepare data and split it"
   ]
  },
  {
   "cell_type": "code",
   "execution_count": 3,
   "id": "8dbcb60d",
   "metadata": {},
   "outputs": [],
   "source": [
    "train = pd.read_excel(train_filepath, engine=\"openpyxl\")\n",
    "valid = pd.read_excel(valid_filepath, engine=\"openpyxl\")\n",
    "test = pd.read_excel(test_filepath, engine=\"openpyxl\")"
   ]
  },
  {
   "cell_type": "code",
   "execution_count": 4,
   "id": "f79713f6",
   "metadata": {},
   "outputs": [],
   "source": [
    "label_mapping = {\n",
    "    \"ИтоговаяСумма\": \"ИтоговаяСумма\",\n",
    "    \"ИтоговаяСуммаПоРаботам\": \"ИтоговаяСуммаПоРаботам\",\n",
    "    \"ИтоговаяСуммаПоДеталям\": \"ИтоговаяСуммаПоДеталям\",\n",
    "    \"Скидки\": \"ИтоговаяСуммаСкидки\",\n",
    "    \"ИтоговаяСуммаПоДеталямСоСкидкой\": \"ИтоговаяСуммаПоДеталямСоСкидкой\",\n",
    "    \"ИтоговаяСуммаПоДеталямСкидки\": \"ИтоговаяСуммаСкидкиПоДеталям\",\n",
    "    \"ПоРаботам\": \"ИтоговаяСуммаПоРаботам\",\n",
    "    \"ПоДеталям\": \"ИтоговаяСуммаПоДеталям\",\n",
    "    \"ИтоговаяСуммаСоСкидкой\": \"ИтоговаяСуммаСоСкидкой\",\n",
    "    \"ИтоговаяСуммаСкидки\": \"ИтоговаяСуммаСкидки\",\n",
    "    \"ИтоговаяСуммаПоРаботамСоСкидкой\": \"ИтоговаяСуммаПоРаботамСоСкидкой\"\n",
    "}"
   ]
  },
  {
   "cell_type": "code",
   "execution_count": 16,
   "id": "030d39dc",
   "metadata": {},
   "outputs": [],
   "source": [
    "def create_data(df, textcol=\"text\", labelcol=\"markup_classicNER\"):\n",
    "    \n",
    "    data = []\n",
    "    \n",
    "    for index, row in tqdm(df.iterrows(), total=len(df)):\n",
    "        line = row[textcol]\n",
    "        entities = literal_eval(row[labelcol])\n",
    "\n",
    "        entities_filtered = []\n",
    "        for entity in entities:\n",
    "            start, end, label = entity[0], entity[1], entity[2]\n",
    "\n",
    "            if label not in label_mapping:\n",
    "                continue\n",
    "\n",
    "            entities_filtered.append((start, end, label_mapping[label]))\n",
    "\n",
    "        data.append((line, entities_filtered))\n",
    "    \n",
    "    return data"
   ]
  },
  {
   "cell_type": "code",
   "execution_count": 6,
   "id": "283bd68c",
   "metadata": {},
   "outputs": [
    {
     "name": "stderr",
     "output_type": "stream",
     "text": [
      "100%|███████████████████████████████████████| 814/814 [00:00<00:00, 4011.61it/s]\n",
      "100%|███████████████████████████████████████| 283/283 [00:00<00:00, 9696.74it/s]\n",
      "100%|███████████████████████████████████████| 130/130 [00:00<00:00, 7393.45it/s]\n"
     ]
    }
   ],
   "source": [
    "train_data = create_data(train)\n",
    "valid_data = create_data(valid)\n",
    "test_data = create_data(test)"
   ]
  },
  {
   "cell_type": "code",
   "execution_count": 7,
   "id": "076b4ce7",
   "metadata": {},
   "outputs": [
    {
     "data": {
      "text/plain": [
       "(814, 283, 130)"
      ]
     },
     "execution_count": 7,
     "metadata": {},
     "output_type": "execute_result"
    }
   ],
   "source": [
    "len(train_data), len(valid_data), len(test_data)"
   ]
  },
  {
   "cell_type": "code",
   "execution_count": 20,
   "id": "1ec32001",
   "metadata": {},
   "outputs": [],
   "source": [
    "nlp = spacy.blank(\"ru\")\n",
    "\n",
    "def create_spacy_object(data, savepath, mode):\n",
    "    \n",
    "    db = DocBin()\n",
    "    erros_overlapping_entities = 0\n",
    "    for i, (text, annotations) in enumerate(data):\n",
    "        if type(text) == str:\n",
    "            doc = nlp(text)\n",
    "            ents = []\n",
    "            if len(annotations):\n",
    "                for start, end, label in annotations:\n",
    "                    span = doc.char_span(start, end, label=label)\n",
    "                    if span:\n",
    "                        ents.append(span)\n",
    "            \n",
    "            try:\n",
    "                doc.ents = ents\n",
    "            except ValueError:\n",
    "#                 print(f\"Cannot Do for Document ({mode}): {i}\")\n",
    "                erros_overlapping_entities += 1\n",
    "                continue\n",
    "            \n",
    "            \n",
    "            db.add(doc)\n",
    "        else:\n",
    "            print(text, annotations)\n",
    "    \n",
    "    dbpath = f\"{savepath}/{mode}.spacy\"\n",
    "    db.to_disk(dbpath)\n",
    "    print(f\"Saved to {dbpath}. {erros_overlapping_entities} Docs were not processed\")\n",
    "    return db"
   ]
  },
  {
   "cell_type": "code",
   "execution_count": 23,
   "id": "6ff9552e",
   "metadata": {},
   "outputs": [
    {
     "name": "stdout",
     "output_type": "stream",
     "text": [
      "Saved to ../../data/ner/baseline/train.spacy. 71 Docs were not processed\n",
      "Saved to ../../data/ner/baseline/valid.spacy. 25 Docs were not processed\n",
      "Saved to ../../data/ner/baseline/test.spacy. 10 Docs were not processed\n"
     ]
    }
   ],
   "source": [
    "db_train = create_spacy_object(\n",
    "    data=train_data,\n",
    "    savepath=spacypath,\n",
    "    mode=\"train\"\n",
    ")\n",
    "\n",
    "db_valid = create_spacy_object(\n",
    "    data=valid_data,\n",
    "    savepath=spacypath,\n",
    "    mode=\"valid\"\n",
    ")\n",
    "\n",
    "db_test = create_spacy_object(\n",
    "    data=test_data,\n",
    "    savepath=spacypath,\n",
    "    mode=\"test\"\n",
    ")"
   ]
  },
  {
   "cell_type": "markdown",
   "id": "d4e95912",
   "metadata": {},
   "source": [
    "# Create config"
   ]
  },
  {
   "cell_type": "code",
   "execution_count": null,
   "id": "05d0f3a5",
   "metadata": {},
   "outputs": [],
   "source": [
    "%%bash\n",
    "\n",
    "python -m spacy init fill-config base_config.cfg config.cfg"
   ]
  },
  {
   "cell_type": "markdown",
   "id": "07aada19",
   "metadata": {},
   "source": [
    "# Run training (better in comand line)"
   ]
  },
  {
   "cell_type": "code",
   "execution_count": null,
   "id": "68d2be73",
   "metadata": {},
   "outputs": [],
   "source": [
    "%%bash\n",
    "\n",
    "python -m spacy train config.cfg --gpu-id 0 --output ./output --paths.train ./spacy/train.spacy --paths.dev ./spacy/valid.spacy"
   ]
  }
 ],
 "metadata": {
  "kernelspec": {
   "display_name": "Python 3 (ipykernel)",
   "language": "python",
   "name": "python3"
  },
  "language_info": {
   "codemirror_mode": {
    "name": "ipython",
    "version": 3
   },
   "file_extension": ".py",
   "mimetype": "text/x-python",
   "name": "python",
   "nbconvert_exporter": "python",
   "pygments_lexer": "ipython3",
   "version": "3.8.13"
  }
 },
 "nbformat": 4,
 "nbformat_minor": 5
}

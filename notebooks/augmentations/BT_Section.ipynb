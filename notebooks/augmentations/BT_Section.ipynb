{
 "cells": [
  {
   "cell_type": "code",
   "execution_count": 1,
   "id": "80a1fc14",
   "metadata": {},
   "outputs": [],
   "source": [
    "from pathlib import Path\n",
    "\n",
    "import pandas as pd"
   ]
  },
  {
   "cell_type": "code",
   "execution_count": 14,
   "id": "9e47eb45",
   "metadata": {},
   "outputs": [],
   "source": [
    "seed = 24666 # 23 42 24666\n",
    "init_df_path = Path(f\"../../data/classification/baseline/train_{seed}.csv\")\n",
    "output_folder = Path(f\"../../data/classification/back_translation\")\n",
    "text_column = \"Текст\"\n",
    "label_column = \"Тональность\""
   ]
  },
  {
   "cell_type": "code",
   "execution_count": 15,
   "id": "f36e8ef7",
   "metadata": {},
   "outputs": [
    {
     "name": "stdout",
     "output_type": "stream",
     "text": [
      "(11668, 4)\n"
     ]
    }
   ],
   "source": [
    "df = pd.read_csv(init_df_path)\n",
    "print(df.shape)\n",
    "\n",
    "\n",
    "texts, labels = [], []\n",
    "texts.extend(df[text_column].tolist())\n",
    "labels.extend(df[label_column].tolist())"
   ]
  },
  {
   "cell_type": "code",
   "execution_count": 4,
   "id": "29d786e1",
   "metadata": {},
   "outputs": [
    {
     "name": "stdout",
     "output_type": "stream",
     "text": [
      "(23324, 2)\n"
     ]
    }
   ],
   "source": [
    "# df_done = pd.read_csv(output_folder / f\"train_{seed}.csv\")\n",
    "# print(df_done.shape)\n",
    "\n",
    "# texts.extend(df_done[text_column])\n",
    "# labels.extend(df_done[label_column])"
   ]
  },
  {
   "cell_type": "markdown",
   "id": "637ba7df",
   "metadata": {},
   "source": [
    "# Google Translate"
   ]
  },
  {
   "cell_type": "code",
   "execution_count": 4,
   "id": "43781bea",
   "metadata": {},
   "outputs": [],
   "source": [
    "import pandas as pd\n",
    "from pathlib import Path\n",
    "from typing import List, Callable\n",
    "from tqdm import tqdm\n",
    "import numpy as np\n",
    "\n",
    "from googletrans import Translator"
   ]
  },
  {
   "cell_type": "code",
   "execution_count": 5,
   "id": "a9ea7588",
   "metadata": {},
   "outputs": [],
   "source": [
    "translator = Translator()"
   ]
  },
  {
   "cell_type": "code",
   "execution_count": 16,
   "id": "5a47e26f",
   "metadata": {
    "scrolled": true
   },
   "outputs": [
    {
     "name": "stderr",
     "output_type": "stream",
     "text": [
      "1231it [03:17,  8.26it/s]"
     ]
    },
    {
     "name": "stdout",
     "output_type": "stream",
     "text": [
      "Fail:           \n"
     ]
    },
    {
     "name": "stderr",
     "output_type": "stream",
     "text": [
      "1727it [04:32,  7.55it/s]"
     ]
    },
    {
     "name": "stdout",
     "output_type": "stream",
     "text": [
      "Fail:   \n"
     ]
    },
    {
     "name": "stderr",
     "output_type": "stream",
     "text": [
      "3220it [08:24,  7.18it/s]"
     ]
    },
    {
     "name": "stdout",
     "output_type": "stream",
     "text": [
      "Fail:                                             \n"
     ]
    },
    {
     "name": "stderr",
     "output_type": "stream",
     "text": [
      "4761it [12:40,  4.28it/s]"
     ]
    },
    {
     "name": "stdout",
     "output_type": "stream",
     "text": [
      "Fail:                                 \n"
     ]
    },
    {
     "name": "stderr",
     "output_type": "stream",
     "text": [
      "5125it [13:40,  6.52it/s]"
     ]
    },
    {
     "name": "stdout",
     "output_type": "stream",
     "text": [
      "Fail:        \n"
     ]
    },
    {
     "name": "stderr",
     "output_type": "stream",
     "text": [
      "6505it [17:23,  4.88it/s]"
     ]
    },
    {
     "name": "stdout",
     "output_type": "stream",
     "text": [
      "Fail:  \n"
     ]
    },
    {
     "name": "stderr",
     "output_type": "stream",
     "text": [
      "8093it [21:36,  5.20it/s]"
     ]
    },
    {
     "name": "stdout",
     "output_type": "stream",
     "text": [
      "Fail:      \n"
     ]
    },
    {
     "name": "stderr",
     "output_type": "stream",
     "text": [
      "8612it [23:05,  7.70it/s]"
     ]
    },
    {
     "name": "stdout",
     "output_type": "stream",
     "text": [
      "Fail:       \n"
     ]
    },
    {
     "name": "stderr",
     "output_type": "stream",
     "text": [
      "9776it [26:19,  5.91it/s]"
     ]
    },
    {
     "name": "stdout",
     "output_type": "stream",
     "text": [
      "Fail:                                                  \n"
     ]
    },
    {
     "name": "stderr",
     "output_type": "stream",
     "text": [
      "11668it [31:30,  6.17it/s]"
     ]
    },
    {
     "name": "stdout",
     "output_type": "stream",
     "text": [
      "Failed 9 times.\n",
      "23327 23327\n"
     ]
    },
    {
     "name": "stderr",
     "output_type": "stream",
     "text": [
      "\n"
     ]
    }
   ],
   "source": [
    "fails = 0\n",
    "\n",
    "for i, raw in tqdm(df.iterrows()):\n",
    "    \n",
    "    text, label = raw[text_column], raw[label_column]\n",
    "    try:\n",
    "        new_text = translator.translate(text,  src='ru', dest='fr').text\n",
    "        new_text = translator.translate(new_text,  src='fr', dest='ru').text\n",
    "\n",
    "        texts.append(new_text)\n",
    "        labels.append(label)\n",
    "        \n",
    "    except:\n",
    "        print(f\"Fail: {text}\")\n",
    "        fails += 1\n",
    "    \n",
    "print(f\"Failed {fails} times.\")\n",
    "print(len(texts), len(labels))"
   ]
  },
  {
   "cell_type": "markdown",
   "id": "dcfed227",
   "metadata": {},
   "source": [
    "# Ru - EN - RU"
   ]
  },
  {
   "cell_type": "code",
   "execution_count": 20,
   "id": "de014f75",
   "metadata": {},
   "outputs": [
    {
     "name": "stdout",
     "output_type": "stream",
     "text": [
      "/Users/a18692338/Documents/PycharmProjects/hse_master_augmentation/notebooks/augmentations/NL-Augmenter\r\n"
     ]
    }
   ],
   "source": [
    "!pwd"
   ]
  },
  {
   "cell_type": "code",
   "execution_count": 9,
   "id": "4f0da45a",
   "metadata": {},
   "outputs": [],
   "source": [
    "import os\n",
    "os.chdir(\"NL-Augmenter\")"
   ]
  },
  {
   "cell_type": "code",
   "execution_count": 18,
   "id": "4a3b447a",
   "metadata": {
    "scrolled": true
   },
   "outputs": [
    {
     "name": "stdout",
     "output_type": "stream",
     "text": [
      "Obtaining file:///Users/a18692338/Documents/PycharmProjects/hse_master_augmentation/notebooks/augmentations/NL-Augmenter\n",
      "  Installing build dependencies ... \u001b[?25ldone\n",
      "\u001b[?25h  Checking if build backend supports build_editable ... \u001b[?25ldone\n",
      "\u001b[?25h  Getting requirements to build wheel ... \u001b[?25ldone\n",
      "\u001b[?25h  Preparing metadata (pyproject.toml) ... \u001b[?25ldone\n",
      "\u001b[?25hRequirement already satisfied: torch in /Users/a18692338/.conda/envs/diploma/lib/python3.8/site-packages (from nlaugmenter==1.1.0) (1.11.0)\n",
      "Requirement already satisfied: pytest==6.2.4 in /Users/a18692338/.conda/envs/diploma/lib/python3.8/site-packages (from nlaugmenter==1.1.0) (6.2.4)\n",
      "Collecting Babel==2.9.1\n",
      "  Using cached Babel-2.9.1-py2.py3-none-any.whl (8.8 MB)\n",
      "Requirement already satisfied: transformers==4.6.1 in /Users/a18692338/.conda/envs/diploma/lib/python3.8/site-packages (from nlaugmenter==1.1.0) (4.6.1)\n",
      "Collecting pyinflect==0.5.1\n",
      "  Downloading pyinflect-0.5.1-py3-none-any.whl (703 kB)\n",
      "\u001b[2K     \u001b[90m━━━━━━━━━━━━━━━━━━━━━━━━━━━━━━━━━━━━━━━\u001b[0m \u001b[32m703.5/703.5 KB\u001b[0m \u001b[31m4.2 MB/s\u001b[0m eta \u001b[36m0:00:00\u001b[0m00:01\u001b[0m00:01\u001b[0m\n",
      "\u001b[?25hCollecting ftfy==6.0.3\n",
      "  Using cached ftfy-6.0.3.tar.gz (64 kB)\n",
      "  Preparing metadata (setup.py) ... \u001b[?25ldone\n",
      "\u001b[?25hCollecting spacytextblob==3.0.1\n",
      "  Downloading spacytextblob-3.0.1-py3-none-any.whl (4.1 kB)\n",
      "Collecting jellyfish==0.8.2\n",
      "  Downloading jellyfish-0.8.2.tar.gz (134 kB)\n",
      "\u001b[2K     \u001b[90m━━━━━━━━━━━━━━━━━━━━━━━━━━━━━━━━━━━━━\u001b[0m \u001b[32m134.2/134.2 KB\u001b[0m \u001b[31m837.8 kB/s\u001b[0m eta \u001b[36m0:00:00\u001b[0ma \u001b[36m0:00:01\u001b[0m\n",
      "\u001b[?25h  Preparing metadata (setup.py) ... \u001b[?25ldone\n",
      "\u001b[?25hCollecting ftlid==0.1.2\n",
      "  Downloading ftlid-0.1.2-py3-none-any.whl (780 kB)\n",
      "\u001b[2K     \u001b[90m━━━━━━━━━━━━━━━━━━━━━━━━━━━━━━━━━━━━━━━\u001b[0m \u001b[32m780.1/780.1 KB\u001b[0m \u001b[31m7.1 MB/s\u001b[0m eta \u001b[36m0:00:00\u001b[0ma \u001b[36m0:00:01\u001b[0m\n",
      "\u001b[?25hRequirement already satisfied: numpy in /Users/a18692338/.conda/envs/diploma/lib/python3.8/site-packages (from nlaugmenter==1.1.0) (1.22.3)\n",
      "Requirement already satisfied: tqdm in /Users/a18692338/.conda/envs/diploma/lib/python3.8/site-packages (from nlaugmenter==1.1.0) (4.49.0)\n",
      "Collecting inflect==5.3.0\n",
      "  Downloading inflect-5.3.0-py3-none-any.whl (32 kB)\n",
      "Requirement already satisfied: sacrebleu==1.5.1 in /Users/a18692338/.conda/envs/diploma/lib/python3.8/site-packages (from nlaugmenter==1.1.0) (1.5.1)\n",
      "Collecting dateparser==1.0.0\n",
      "  Downloading dateparser-1.0.0-py2.py3-none-any.whl (279 kB)\n",
      "\u001b[2K     \u001b[90m━━━━━━━━━━━━━━━━━━━━━━━━━━━━━━━━━━━━━━━\u001b[0m \u001b[32m279.9/279.9 KB\u001b[0m \u001b[31m5.6 MB/s\u001b[0m eta \u001b[36m0:00:00\u001b[0m00:01\u001b[0m\n",
      "\u001b[?25hRequirement already satisfied: docopt==0.6.2 in /Users/a18692338/.local/lib/python3.8/site-packages (from nlaugmenter==1.1.0) (0.6.2)\n",
      "Requirement already satisfied: datasets==1.7.0 in /Users/a18692338/.conda/envs/diploma/lib/python3.8/site-packages (from nlaugmenter==1.1.0) (1.7.0)\n",
      "Requirement already satisfied: setuptools<59.7.0nltk==3.6.2 in /Users/a18692338/.conda/envs/diploma/lib/python3.8/site-packages (from nlaugmenter==1.1.0) (59.6.0)\n",
      "Requirement already satisfied: pre-commit==2.13.0 in /Users/a18692338/.conda/envs/diploma/lib/python3.8/site-packages (from nlaugmenter==1.1.0) (2.13.0)\n",
      "Collecting nltk==3.6.2\n",
      "  Using cached nltk-3.6.2-py3-none-any.whl (1.5 MB)\n",
      "Requirement already satisfied: pytest-cov==2.12.1 in /Users/a18692338/.conda/envs/diploma/lib/python3.8/site-packages (from nlaugmenter==1.1.0) (2.12.1)\n",
      "Requirement already satisfied: num2words==0.5.10 in /Users/a18692338/.conda/envs/diploma/lib/python3.8/site-packages (from nlaugmenter==1.1.0) (0.5.10)\n",
      "Collecting pattern3==3.0.0\n",
      "  Downloading pattern3-3.0.0.tar.gz (23.7 MB)\n",
      "\u001b[2K     \u001b[90m━━━━━━━━━━━━━━━━━━━━━━━━━━━━━━━━━━━━━━━━\u001b[0m \u001b[32m23.7/23.7 MB\u001b[0m \u001b[31m8.0 MB/s\u001b[0m eta \u001b[36m0:00:00\u001b[0m00:01\u001b[0m00:01\u001b[0m\n",
      "\u001b[?25h  Preparing metadata (setup.py) ... \u001b[?25ldone\n",
      "\u001b[?25hRequirement already satisfied: spacy==3.0.0 in /Users/a18692338/.conda/envs/diploma/lib/python3.8/site-packages (from nlaugmenter==1.1.0) (3.0.0)\n",
      "Requirement already satisfied: isort==5.9.1 in /Users/a18692338/.conda/envs/diploma/lib/python3.8/site-packages (from nlaugmenter==1.1.0) (5.9.1)\n",
      "Requirement already satisfied: checklist==0.0.11 in /Users/a18692338/.conda/envs/diploma/lib/python3.8/site-packages (from nlaugmenter==1.1.0) (0.0.11)\n",
      "Requirement already satisfied: seqeval==1.2.2 in /Users/a18692338/.conda/envs/diploma/lib/python3.8/site-packages (from nlaugmenter==1.1.0) (1.2.2)\n",
      "Requirement already satisfied: pandas>=1.2.0 in /Users/a18692338/.conda/envs/diploma/lib/python3.8/site-packages (from nlaugmenter==1.1.0) (1.4.2)\n",
      "Collecting forex-python==1.6\n",
      "  Downloading forex_python-1.6-py3-none-any.whl (8.1 kB)\n",
      "Requirement already satisfied: word2number==1.1 in /Users/a18692338/.conda/envs/diploma/lib/python3.8/site-packages (from nlaugmenter==1.1.0) (1.1)\n",
      "Collecting aaransia\n",
      "  Downloading aaransia-1.1.tar.gz (49 kB)\n",
      "\u001b[2K     \u001b[90m━━━━━━━━━━━━━━━━━━━━━━━━━━━━━━━━━━━━━━━━\u001b[0m \u001b[32m49.2/49.2 KB\u001b[0m \u001b[31m1.5 MB/s\u001b[0m eta \u001b[36m0:00:00\u001b[0m\n",
      "\u001b[?25h  Preparing metadata (setup.py) ... \u001b[?25ldone\n",
      "\u001b[?25hCollecting lemminflect==0.2.2\n",
      "  Downloading lemminflect-0.2.2-py3-none-any.whl (769 kB)\n",
      "\u001b[2K     \u001b[90m━━━━━━━━━━━━━━━━━━━━━━━━━━━━━━━━━━━━━━━\u001b[0m \u001b[32m769.2/769.2 KB\u001b[0m \u001b[31m7.2 MB/s\u001b[0m eta \u001b[36m0:00:00\u001b[0ma \u001b[36m0:00:01\u001b[0m\n",
      "\u001b[?25hCollecting gender-extractor==0.1.3\n",
      "  Downloading gender_extractor-0.1.3-py3-none-any.whl (2.5 MB)\n",
      "\u001b[2K     \u001b[90m━━━━━━━━━━━━━━━━━━━━━━━━━━━━━━━━━━━━━━━━\u001b[0m \u001b[32m2.5/2.5 MB\u001b[0m \u001b[31m6.2 MB/s\u001b[0m eta \u001b[36m0:00:00\u001b[0m00:01\u001b[0m00:01\u001b[0mm\n",
      "\u001b[?25hCollecting allennlp-models==2.5.0\n",
      "  Downloading allennlp_models-2.5.0-py3-none-any.whl (433 kB)\n",
      "\u001b[2K     \u001b[90m━━━━━━━━━━━━━━━━━━━━━━━━━━━━━━━━━━━━━━━\u001b[0m \u001b[32m433.3/433.3 KB\u001b[0m \u001b[31m5.0 MB/s\u001b[0m eta \u001b[36m0:00:00\u001b[0m00:01\u001b[0m00:01\u001b[0m\n",
      "\u001b[?25hRequirement already satisfied: sentencepiece==0.1.95 in /Users/a18692338/.conda/envs/diploma/lib/python3.8/site-packages (from nlaugmenter==1.1.0) (0.1.95)\n",
      "Requirement already satisfied: black==21.5b2 in /Users/a18692338/.conda/envs/diploma/lib/python3.8/site-packages (from nlaugmenter==1.1.0) (21.5b2)\n",
      "Collecting torchtext==0.9.1\n",
      "  Downloading torchtext-0.9.1-cp38-cp38-macosx_10_9_x86_64.whl (1.6 MB)\n",
      "\u001b[2K     \u001b[90m━━━━━━━━━━━━━━━━━━━━━━━━━━━━━━━━━━━━━━━━\u001b[0m \u001b[32m1.6/1.6 MB\u001b[0m \u001b[31m4.3 MB/s\u001b[0m eta \u001b[36m0:00:00\u001b[0m00:01\u001b[0m00:01\u001b[0mm\n",
      "\u001b[?25hCollecting allennlp==2.5.0\n",
      "  Downloading allennlp-2.5.0-py3-none-any.whl (681 kB)\n",
      "\u001b[2K     \u001b[90m━━━━━━━━━━━━━━━━━━━━━━━━━━━━━━━━━━━━━━━\u001b[0m \u001b[32m681.4/681.4 KB\u001b[0m \u001b[31m4.6 MB/s\u001b[0m eta \u001b[36m0:00:00\u001b[0ma \u001b[36m0:00:01\u001b[0m\n",
      "\u001b[?25hCollecting SoundsLike==0.0.11\n",
      "  Downloading SoundsLike-0.0.11-py3-none-any.whl (11 kB)\n",
      "Requirement already satisfied: flake8==3.9.2 in /Users/a18692338/.conda/envs/diploma/lib/python3.8/site-packages (from nlaugmenter==1.1.0) (3.9.2)\n",
      "Collecting langid==1.1.6\n",
      "  Downloading langid-1.1.6.tar.gz (1.9 MB)\n",
      "\u001b[2K     \u001b[90m━━━━━━━━━━━━━━━━━━━━━━━━━━━━━━━━━━━━━━━━\u001b[0m \u001b[32m1.9/1.9 MB\u001b[0m \u001b[31m5.2 MB/s\u001b[0m eta \u001b[36m0:00:00\u001b[0m00:01\u001b[0m00:01\u001b[0m\n",
      "\u001b[?25h  Preparing metadata (setup.py) ... \u001b[?25ldone\n",
      "\u001b[?25hCollecting phonenumbers==8.12.25\n",
      "  Downloading phonenumbers-8.12.25-py2.py3-none-any.whl (2.6 MB)\n",
      "\u001b[2K     \u001b[90m━━━━━━━━━━━━━━━━━━━━━━━━━━━━━━━━━━━━━━━━\u001b[0m \u001b[32m2.6/2.6 MB\u001b[0m \u001b[31m5.6 MB/s\u001b[0m eta \u001b[36m0:00:00\u001b[0m00:01\u001b[0m00:01\u001b[0m\n",
      "\u001b[?25hRequirement already satisfied: requests>=2.18 in /Users/a18692338/.conda/envs/diploma/lib/python3.8/site-packages (from allennlp==2.5.0->nlaugmenter==1.1.0) (2.27.1)\n",
      "Collecting jsonnet>=0.10.0\n",
      "  Downloading jsonnet-0.18.0.tar.gz (592 kB)\n",
      "\u001b[2K     \u001b[90m━━━━━━━━━━━━━━━━━━━━━━━━━━━━━━━━━━━━━━━\u001b[0m \u001b[32m592.1/592.1 KB\u001b[0m \u001b[31m4.6 MB/s\u001b[0m eta \u001b[36m0:00:00\u001b[0m00:01\u001b[0m00:01\u001b[0m\n",
      "\u001b[?25h  Preparing metadata (setup.py) ... \u001b[?25ldone\n",
      "\u001b[?25hCollecting boto3<2.0,>=1.14\n",
      "  Downloading boto3-1.22.3-py3-none-any.whl (132 kB)\n",
      "\u001b[2K     \u001b[90m━━━━━━━━━━━━━━━━━━━━━━━━━━━━━━━━━━━━━━━\u001b[0m \u001b[32m132.5/132.5 KB\u001b[0m \u001b[31m6.9 MB/s\u001b[0m eta \u001b[36m0:00:00\u001b[0m\n",
      "\u001b[?25hRequirement already satisfied: more-itertools in /Users/a18692338/.conda/envs/diploma/lib/python3.8/site-packages (from allennlp==2.5.0->nlaugmenter==1.1.0) (8.12.0)\n",
      "Collecting filelock<3.1,>=3.0\n",
      "  Using cached filelock-3.0.12-py3-none-any.whl (7.6 kB)\n",
      "Collecting lmdb\n",
      "  Downloading lmdb-1.3.0-cp38-cp38-macosx_10_14_x86_64.whl (101 kB)\n"
     ]
    },
    {
     "name": "stdout",
     "output_type": "stream",
     "text": [
      "\u001b[2K     \u001b[90m━━━━━━━━━━━━━━━━━━━━━━━━━━━━━━━━━━━━━━━\u001b[0m \u001b[32m101.7/101.7 KB\u001b[0m \u001b[31m2.9 MB/s\u001b[0m eta \u001b[36m0:00:00\u001b[0m\n",
      "\u001b[?25hRequirement already satisfied: scikit-learn in /Users/a18692338/.conda/envs/diploma/lib/python3.8/site-packages (from allennlp==2.5.0->nlaugmenter==1.1.0) (1.0.2)\n",
      "Collecting wandb<0.11.0,>=0.10.0\n",
      "  Downloading wandb-0.10.33-py2.py3-none-any.whl (1.8 MB)\n",
      "\u001b[2K     \u001b[90m━━━━━━━━━━━━━━━━━━━━━━━━━━━━━━━━━━━━━━━━\u001b[0m \u001b[32m1.8/1.8 MB\u001b[0m \u001b[31m5.7 MB/s\u001b[0m eta \u001b[36m0:00:00\u001b[0m00:01\u001b[0m00:01\u001b[0m\n",
      "\u001b[?25hCollecting google-cloud-storage<1.39.0,>=1.38.0\n",
      "  Downloading google_cloud_storage-1.38.0-py2.py3-none-any.whl (103 kB)\n",
      "\u001b[2K     \u001b[90m━━━━━━━━━━━━━━━━━━━━━━━━━━━━━━━━━━━━━━━\u001b[0m \u001b[32m104.0/104.0 KB\u001b[0m \u001b[31m2.8 MB/s\u001b[0m eta \u001b[36m0:00:00\u001b[0m\n",
      "\u001b[?25hCollecting torchvision<0.10.0,>=0.8.1\n",
      "  Downloading torchvision-0.9.1-cp38-cp38-macosx_10_9_x86_64.whl (13.2 MB)\n",
      "\u001b[2K     \u001b[90m━━━━━━━━━━━━━━━━━━━━━━━━━━━━━━━━━━━━━━━━\u001b[0m \u001b[32m13.2/13.2 MB\u001b[0m \u001b[31m6.6 MB/s\u001b[0m eta \u001b[36m0:00:00\u001b[0m00:01\u001b[0m00:01\u001b[0m\n",
      "\u001b[?25hCollecting termcolor==1.1.0\n",
      "  Using cached termcolor-1.1.0.tar.gz (3.9 kB)\n",
      "  Preparing metadata (setup.py) ... \u001b[?25ldone\n",
      "\u001b[?25hRequirement already satisfied: huggingface-hub>=0.0.8 in /Users/a18692338/.conda/envs/diploma/lib/python3.8/site-packages (from allennlp==2.5.0->nlaugmenter==1.1.0) (0.0.8)\n",
      "Collecting tensorboardX>=1.2\n",
      "  Downloading tensorboardX-2.5-py2.py3-none-any.whl (125 kB)\n",
      "\u001b[2K     \u001b[90m━━━━━━━━━━━━━━━━━━━━━━━━━━━━━━━━━━━━━━━\u001b[0m \u001b[32m125.3/125.3 KB\u001b[0m \u001b[31m3.4 MB/s\u001b[0m eta \u001b[36m0:00:00\u001b[0m\n",
      "\u001b[?25hCollecting h5py\n",
      "  Downloading h5py-3.6.0-cp38-cp38-macosx_10_9_x86_64.whl (3.1 MB)\n",
      "\u001b[2K     \u001b[90m━━━━━━━━━━━━━━━━━━━━━━━━━━━━━━━━━━━━━━━━\u001b[0m \u001b[32m3.1/3.1 MB\u001b[0m \u001b[31m7.0 MB/s\u001b[0m eta \u001b[36m0:00:00\u001b[0m00:01\u001b[0m00:01\u001b[0m\n",
      "\u001b[?25hRequirement already satisfied: scipy in /Users/a18692338/.conda/envs/diploma/lib/python3.8/site-packages (from allennlp==2.5.0->nlaugmenter==1.1.0) (1.8.0)\n",
      "Collecting torch\n",
      "  Downloading torch-1.8.1-cp38-none-macosx_10_9_x86_64.whl (119.6 MB)\n",
      "\u001b[2K     \u001b[90m━━━━━━━━━━━━━━━━━━━━━━━━━━━━━━━━━━━━━━━\u001b[0m \u001b[32m119.6/119.6 MB\u001b[0m \u001b[31m6.0 MB/s\u001b[0m eta \u001b[36m0:00:00\u001b[0m00:01\u001b[0m00:01\u001b[0m\n",
      "\u001b[?25hCollecting overrides==3.1.0\n",
      "  Using cached overrides-3.1.0.tar.gz (11 kB)\n",
      "  Preparing metadata (setup.py) ... \u001b[?25ldone\n",
      "\u001b[?25hCollecting conllu==4.4\n",
      "  Downloading conllu-4.4-py2.py3-none-any.whl (15 kB)\n",
      "Collecting py-rouge==1.1\n",
      "  Downloading py_rouge-1.1-py3-none-any.whl (56 kB)\n",
      "\u001b[2K     \u001b[90m━━━━━━━━━━━━━━━━━━━━━━━━━━━━━━━━━━━━━━━━\u001b[0m \u001b[32m56.8/56.8 KB\u001b[0m \u001b[31m1.2 MB/s\u001b[0m eta \u001b[36m0:00:00\u001b[0mta \u001b[36m0:00:01\u001b[0m\n",
      "\u001b[?25hRequirement already satisfied: pytz>=2015.7 in /Users/a18692338/.conda/envs/diploma/lib/python3.8/site-packages (from Babel==2.9.1->nlaugmenter==1.1.0) (2022.1)\n",
      "Requirement already satisfied: regex>=2020.1.8 in /Users/a18692338/.conda/envs/diploma/lib/python3.8/site-packages (from black==21.5b2->nlaugmenter==1.1.0) (2022.4.24)\n",
      "Requirement already satisfied: click>=7.1.2 in /Users/a18692338/.conda/envs/diploma/lib/python3.8/site-packages (from black==21.5b2->nlaugmenter==1.1.0) (7.1.2)\n",
      "Requirement already satisfied: pathspec<1,>=0.8.1 in /Users/a18692338/.conda/envs/diploma/lib/python3.8/site-packages (from black==21.5b2->nlaugmenter==1.1.0) (0.9.0)\n",
      "Requirement already satisfied: toml>=0.10.1 in /Users/a18692338/.conda/envs/diploma/lib/python3.8/site-packages (from black==21.5b2->nlaugmenter==1.1.0) (0.10.2)\n",
      "Requirement already satisfied: mypy-extensions>=0.4.3 in /Users/a18692338/.conda/envs/diploma/lib/python3.8/site-packages (from black==21.5b2->nlaugmenter==1.1.0) (0.4.3)\n",
      "Requirement already satisfied: appdirs in /Users/a18692338/.conda/envs/diploma/lib/python3.8/site-packages (from black==21.5b2->nlaugmenter==1.1.0) (1.4.4)\n",
      "Requirement already satisfied: munch>=2.5 in /Users/a18692338/.conda/envs/diploma/lib/python3.8/site-packages (from checklist==0.0.11->nlaugmenter==1.1.0) (2.5.0)\n",
      "Requirement already satisfied: patternfork-nosql in /Users/a18692338/.conda/envs/diploma/lib/python3.8/site-packages (from checklist==0.0.11->nlaugmenter==1.1.0) (3.6)\n",
      "Requirement already satisfied: dill>=0.3.1 in /Users/a18692338/.conda/envs/diploma/lib/python3.8/site-packages (from checklist==0.0.11->nlaugmenter==1.1.0) (0.3.4)\n",
      "Requirement already satisfied: jupyter>=1.0 in /Users/a18692338/.conda/envs/diploma/lib/python3.8/site-packages (from checklist==0.0.11->nlaugmenter==1.1.0) (1.0.0)\n",
      "Requirement already satisfied: iso-639 in /Users/a18692338/.conda/envs/diploma/lib/python3.8/site-packages (from checklist==0.0.11->nlaugmenter==1.1.0) (0.4.5)\n",
      "Requirement already satisfied: ipywidgets>=7.5 in /Users/a18692338/.conda/envs/diploma/lib/python3.8/site-packages (from checklist==0.0.11->nlaugmenter==1.1.0) (7.7.0)\n",
      "Requirement already satisfied: packaging in /Users/a18692338/.conda/envs/diploma/lib/python3.8/site-packages (from datasets==1.7.0->nlaugmenter==1.1.0) (21.3)\n",
      "Requirement already satisfied: fsspec in /Users/a18692338/.conda/envs/diploma/lib/python3.8/site-packages (from datasets==1.7.0->nlaugmenter==1.1.0) (2022.3.0)\n",
      "Requirement already satisfied: xxhash in /Users/a18692338/.conda/envs/diploma/lib/python3.8/site-packages (from datasets==1.7.0->nlaugmenter==1.1.0) (3.0.0)\n",
      "Requirement already satisfied: multiprocess in /Users/a18692338/.conda/envs/diploma/lib/python3.8/site-packages (from datasets==1.7.0->nlaugmenter==1.1.0) (0.70.12.2)\n",
      "Requirement already satisfied: pyarrow<4.0.0,>=1.0.0 in /Users/a18692338/.conda/envs/diploma/lib/python3.8/site-packages (from datasets==1.7.0->nlaugmenter==1.1.0) (3.0.0)\n",
      "Requirement already satisfied: python-dateutil in /Users/a18692338/.conda/envs/diploma/lib/python3.8/site-packages (from dateparser==1.0.0->nlaugmenter==1.1.0) (2.8.2)\n",
      "Collecting tzlocal\n",
      "  Downloading tzlocal-4.2-py3-none-any.whl (19 kB)\n",
      "Requirement already satisfied: pyflakes<2.4.0,>=2.3.0 in /Users/a18692338/.conda/envs/diploma/lib/python3.8/site-packages (from flake8==3.9.2->nlaugmenter==1.1.0) (2.3.1)\n",
      "Requirement already satisfied: pycodestyle<2.8.0,>=2.7.0 in /Users/a18692338/.conda/envs/diploma/lib/python3.8/site-packages (from flake8==3.9.2->nlaugmenter==1.1.0) (2.7.0)\n",
      "Requirement already satisfied: mccabe<0.7.0,>=0.6.0 in /Users/a18692338/.conda/envs/diploma/lib/python3.8/site-packages (from flake8==3.9.2->nlaugmenter==1.1.0) (0.6.1)\n",
      "Collecting simplejson\n",
      "  Downloading simplejson-3.17.6-cp38-cp38-macosx_10_9_x86_64.whl (74 kB)\n",
      "\u001b[2K     \u001b[90m━━━━━━━━━━━━━━━━━━━━━━━━━━━━━━━━━━━━━━━━\u001b[0m \u001b[32m74.6/74.6 KB\u001b[0m \u001b[31m2.4 MB/s\u001b[0m eta \u001b[36m0:00:00\u001b[0m\n",
      "\u001b[?25hRequirement already satisfied: wcwidth in /Users/a18692338/.conda/envs/diploma/lib/python3.8/site-packages (from ftfy==6.0.3->nlaugmenter==1.1.0) (0.2.5)\n",
      "Collecting fasttext<0.10.0,>=0.9.1\n",
      "  Downloading fasttext-0.9.2.tar.gz (68 kB)\n",
      "\u001b[2K     \u001b[90m━━━━━━━━━━━━━━━━━━━━━━━━━━━━━━━━━━━━━━━━\u001b[0m \u001b[32m68.8/68.8 KB\u001b[0m \u001b[31m2.5 MB/s\u001b[0m eta \u001b[36m0:00:00\u001b[0m\n",
      "\u001b[?25h  Preparing metadata (setup.py) ... \u001b[?25ldone\n",
      "\u001b[?25hRequirement already satisfied: joblib in /Users/a18692338/.conda/envs/diploma/lib/python3.8/site-packages (from nltk==3.6.2->nlaugmenter==1.1.0) (1.1.0)\n",
      "Requirement already satisfied: beautifulsoup4 in /Users/a18692338/.conda/envs/diploma/lib/python3.8/site-packages (from pattern3==3.0.0->nlaugmenter==1.1.0) (4.11.1)\n",
      "Requirement already satisfied: cherrypy in /Users/a18692338/.conda/envs/diploma/lib/python3.8/site-packages (from pattern3==3.0.0->nlaugmenter==1.1.0) (18.6.1)\n",
      "Collecting docx\n",
      "  Downloading docx-0.2.4.tar.gz (54 kB)\n",
      "\u001b[2K     \u001b[90m━━━━━━━━━━━━━━━━━━━━━━━━━━━━━━━━━━━━━━━━\u001b[0m \u001b[32m54.9/54.9 KB\u001b[0m \u001b[31m1.8 MB/s\u001b[0m eta \u001b[36m0:00:00\u001b[0m\n",
      "\u001b[?25h  Preparing metadata (setup.py) ... \u001b[?25ldone\n",
      "\u001b[?25hRequirement already satisfied: feedparser in /Users/a18692338/.conda/envs/diploma/lib/python3.8/site-packages (from pattern3==3.0.0->nlaugmenter==1.1.0) (6.0.8)\n",
      "Collecting pdfminer3k\n",
      "  Downloading pdfminer3k-1.3.4-py3-none-any.whl (100 kB)\n",
      "\u001b[2K     \u001b[90m━━━━━━━━━━━━━━━━━━━━━━━━━━━━━━━━━━━━━━━\u001b[0m \u001b[32m100.8/100.8 KB\u001b[0m \u001b[31m3.0 MB/s\u001b[0m eta \u001b[36m0:00:00\u001b[0m\n",
      "\u001b[?25hRequirement already satisfied: pdfminer.six in /Users/a18692338/.conda/envs/diploma/lib/python3.8/site-packages (from pattern3==3.0.0->nlaugmenter==1.1.0) (20220319)\n",
      "Requirement already satisfied: virtualenv>=20.0.8 in /Users/a18692338/.conda/envs/diploma/lib/python3.8/site-packages (from pre-commit==2.13.0->nlaugmenter==1.1.0) (20.14.1)\n",
      "Requirement already satisfied: identify>=1.0.0 in /Users/a18692338/.conda/envs/diploma/lib/python3.8/site-packages (from pre-commit==2.13.0->nlaugmenter==1.1.0) (2.5.0)\n",
      "Requirement already satisfied: cfgv>=2.0.0 in /Users/a18692338/.conda/envs/diploma/lib/python3.8/site-packages (from pre-commit==2.13.0->nlaugmenter==1.1.0) (3.3.1)\n",
      "Requirement already satisfied: pyyaml>=5.1 in /Users/a18692338/.conda/envs/diploma/lib/python3.8/site-packages (from pre-commit==2.13.0->nlaugmenter==1.1.0) (6.0)\n",
      "Requirement already satisfied: nodeenv>=0.11.1 in /Users/a18692338/.conda/envs/diploma/lib/python3.8/site-packages (from pre-commit==2.13.0->nlaugmenter==1.1.0) (1.6.0)\n",
      "Requirement already satisfied: py>=1.8.2 in /Users/a18692338/.conda/envs/diploma/lib/python3.8/site-packages (from pytest==6.2.4->nlaugmenter==1.1.0) (1.11.0)\n",
      "Requirement already satisfied: attrs>=19.2.0 in /Users/a18692338/.conda/envs/diploma/lib/python3.8/site-packages (from pytest==6.2.4->nlaugmenter==1.1.0) (21.4.0)\n",
      "Requirement already satisfied: iniconfig in /Users/a18692338/.conda/envs/diploma/lib/python3.8/site-packages (from pytest==6.2.4->nlaugmenter==1.1.0) (1.1.1)\n",
      "Requirement already satisfied: pluggy<1.0.0a1,>=0.12 in /Users/a18692338/.conda/envs/diploma/lib/python3.8/site-packages (from pytest==6.2.4->nlaugmenter==1.1.0) (0.13.1)\n"
     ]
    },
    {
     "name": "stdout",
     "output_type": "stream",
     "text": [
      "Requirement already satisfied: coverage>=5.2.1 in /Users/a18692338/.conda/envs/diploma/lib/python3.8/site-packages (from pytest-cov==2.12.1->nlaugmenter==1.1.0) (6.3.2)\n",
      "Requirement already satisfied: portalocker==2.0.0 in /Users/a18692338/.conda/envs/diploma/lib/python3.8/site-packages (from sacrebleu==1.5.1->nlaugmenter==1.1.0) (2.0.0)\n",
      "Collecting cmudict>=0.4.4\n",
      "  Downloading cmudict-1.0.2-py2.py3-none-any.whl (939 kB)\n",
      "\u001b[2K     \u001b[90m━━━━━━━━━━━━━━━━━━━━━━━━━━━━━━━━━━━━━━━\u001b[0m \u001b[32m939.7/939.7 KB\u001b[0m \u001b[31m5.3 MB/s\u001b[0m eta \u001b[36m0:00:00\u001b[0m00:01\u001b[0m00:01\u001b[0m\n",
      "\u001b[?25hCollecting g2p-en>=2.1.0\n",
      "  Downloading g2p_en-2.1.0-py3-none-any.whl (3.1 MB)\n",
      "\u001b[2K     \u001b[90m━━━━━━━━━━━━━━━━━━━━━━━━━━━━━━━━━━━━━━━━\u001b[0m \u001b[32m3.1/3.1 MB\u001b[0m \u001b[31m6.7 MB/s\u001b[0m eta \u001b[36m0:00:00\u001b[0m00:01\u001b[0m00:01\u001b[0m\n",
      "\u001b[?25hRequirement already satisfied: pydantic<1.8.0,>=1.7.1 in /Users/a18692338/.conda/envs/diploma/lib/python3.8/site-packages (from spacy==3.0.0->nlaugmenter==1.1.0) (1.7.4)\n",
      "Requirement already satisfied: wasabi<1.1.0,>=0.8.1 in /Users/a18692338/.local/lib/python3.8/site-packages (from spacy==3.0.0->nlaugmenter==1.1.0) (0.9.0)\n",
      "Requirement already satisfied: spacy-legacy<3.1.0,>=3.0.0 in /Users/a18692338/.local/lib/python3.8/site-packages (from spacy==3.0.0->nlaugmenter==1.1.0) (3.0.9)\n",
      "Requirement already satisfied: typer<0.4.0,>=0.3.0 in /Users/a18692338/.conda/envs/diploma/lib/python3.8/site-packages (from spacy==3.0.0->nlaugmenter==1.1.0) (0.3.2)\n",
      "Requirement already satisfied: preshed<3.1.0,>=3.0.2 in /Users/a18692338/.local/lib/python3.8/site-packages (from spacy==3.0.0->nlaugmenter==1.1.0) (3.0.6)\n",
      "Requirement already satisfied: blis<0.8.0,>=0.4.0 in /Users/a18692338/.local/lib/python3.8/site-packages (from spacy==3.0.0->nlaugmenter==1.1.0) (0.7.6)\n",
      "Requirement already satisfied: jinja2 in /Users/a18692338/.conda/envs/diploma/lib/python3.8/site-packages (from spacy==3.0.0->nlaugmenter==1.1.0) (3.1.1)\n",
      "Requirement already satisfied: srsly<3.0.0,>=2.4.0 in /Users/a18692338/.local/lib/python3.8/site-packages (from spacy==3.0.0->nlaugmenter==1.1.0) (2.4.2)\n",
      "Requirement already satisfied: cymem<2.1.0,>=2.0.2 in /Users/a18692338/.local/lib/python3.8/site-packages (from spacy==3.0.0->nlaugmenter==1.1.0) (2.0.6)\n",
      "Requirement already satisfied: pathy in /Users/a18692338/.local/lib/python3.8/site-packages (from spacy==3.0.0->nlaugmenter==1.1.0) (0.6.1)\n",
      "Requirement already satisfied: murmurhash<1.1.0,>=0.28.0 in /Users/a18692338/.local/lib/python3.8/site-packages (from spacy==3.0.0->nlaugmenter==1.1.0) (1.0.6)\n",
      "Requirement already satisfied: catalogue<2.1.0,>=2.0.1 in /Users/a18692338/.local/lib/python3.8/site-packages (from spacy==3.0.0->nlaugmenter==1.1.0) (2.0.6)\n",
      "Requirement already satisfied: thinc<8.1.0,>=8.0.0 in /Users/a18692338/.local/lib/python3.8/site-packages (from spacy==3.0.0->nlaugmenter==1.1.0) (8.0.13)\n",
      "Collecting textblob<0.16.0,>=0.15.3\n",
      "  Using cached textblob-0.15.3-py2.py3-none-any.whl (636 kB)\n",
      "Requirement already satisfied: typing-extensions in /Users/a18692338/.conda/envs/diploma/lib/python3.8/site-packages (from torch->nlaugmenter==1.1.0) (4.2.0)\n",
      "Requirement already satisfied: tokenizers<0.11,>=0.10.1 in /Users/a18692338/.conda/envs/diploma/lib/python3.8/site-packages (from transformers==4.6.1->nlaugmenter==1.1.0) (0.10.3)\n",
      "Requirement already satisfied: sacremoses in /Users/a18692338/.conda/envs/diploma/lib/python3.8/site-packages (from transformers==4.6.1->nlaugmenter==1.1.0) (0.0.49)\n",
      "Collecting unidecode\n",
      "  Downloading Unidecode-1.3.4-py3-none-any.whl (235 kB)\n",
      "\u001b[2K     \u001b[90m━━━━━━━━━━━━━━━━━━━━━━━━━━━━━━━━━━━━━━━\u001b[0m \u001b[32m235.9/235.9 KB\u001b[0m \u001b[31m4.4 MB/s\u001b[0m eta \u001b[36m0:00:00\u001b[0m00:01\u001b[0m\n",
      "\u001b[?25hCollecting s3transfer<0.6.0,>=0.5.0\n",
      "  Using cached s3transfer-0.5.2-py3-none-any.whl (79 kB)\n",
      "Collecting botocore<1.26.0,>=1.25.3\n",
      "  Downloading botocore-1.25.3-py3-none-any.whl (8.7 MB)\n",
      "\u001b[2K     \u001b[90m━━━━━━━━━━━━━━━━━━━━━━━━━━━━━━━━━━━━━━━━\u001b[0m \u001b[32m8.7/8.7 MB\u001b[0m \u001b[31m7.8 MB/s\u001b[0m eta \u001b[36m0:00:00\u001b[0m00:01\u001b[0m00:01\u001b[0mm\n",
      "\u001b[?25hCollecting jmespath<2.0.0,>=0.7.1\n",
      "  Downloading jmespath-1.0.0-py3-none-any.whl (23 kB)\n",
      "Collecting pybind11>=2.2\n",
      "  Using cached pybind11-2.9.2-py2.py3-none-any.whl (213 kB)\n",
      "Collecting distance>=0.1.3\n",
      "  Downloading Distance-0.1.3.tar.gz (180 kB)\n",
      "\u001b[2K     \u001b[90m━━━━━━━━━━━━━━━━━━━━━━━━━━━━━━━━━━━━━━━\u001b[0m \u001b[32m180.3/180.3 KB\u001b[0m \u001b[31m4.2 MB/s\u001b[0m eta \u001b[36m0:00:00\u001b[0ma \u001b[36m0:00:01\u001b[0m\n",
      "\u001b[?25h  Preparing metadata (setup.py) ... \u001b[?25ldone\n",
      "\u001b[?25hCollecting google-cloud-core<2.0dev,>=1.4.1\n",
      "  Downloading google_cloud_core-1.7.2-py2.py3-none-any.whl (28 kB)\n",
      "Collecting google-auth<2.0dev,>=1.11.0\n",
      "  Using cached google_auth-1.35.0-py2.py3-none-any.whl (152 kB)\n",
      "Collecting google-resumable-media<2.0dev,>=1.2.0\n",
      "  Downloading google_resumable_media-1.3.3-py2.py3-none-any.whl (75 kB)\n",
      "\u001b[2K     \u001b[90m━━━━━━━━━━━━━━━━━━━━━━━━━━━━━━━━━━━━━━━━\u001b[0m \u001b[32m76.0/76.0 KB\u001b[0m \u001b[31m2.5 MB/s\u001b[0m eta \u001b[36m0:00:00\u001b[0m\n",
      "\u001b[?25hRequirement already satisfied: ipython>=4.0.0 in /Users/a18692338/.conda/envs/diploma/lib/python3.8/site-packages (from ipywidgets>=7.5->checklist==0.0.11->nlaugmenter==1.1.0) (8.2.0)\n",
      "Requirement already satisfied: jupyterlab-widgets>=1.0.0 in /Users/a18692338/.conda/envs/diploma/lib/python3.8/site-packages (from ipywidgets>=7.5->checklist==0.0.11->nlaugmenter==1.1.0) (1.1.0)\n",
      "Requirement already satisfied: traitlets>=4.3.1 in /Users/a18692338/.conda/envs/diploma/lib/python3.8/site-packages (from ipywidgets>=7.5->checklist==0.0.11->nlaugmenter==1.1.0) (5.1.1)\n",
      "Requirement already satisfied: nbformat>=4.2.0 in /Users/a18692338/.conda/envs/diploma/lib/python3.8/site-packages (from ipywidgets>=7.5->checklist==0.0.11->nlaugmenter==1.1.0) (5.3.0)\n",
      "Requirement already satisfied: ipykernel>=4.5.1 in /Users/a18692338/.conda/envs/diploma/lib/python3.8/site-packages (from ipywidgets>=7.5->checklist==0.0.11->nlaugmenter==1.1.0) (6.13.0)\n",
      "Requirement already satisfied: widgetsnbextension~=3.6.0 in /Users/a18692338/.conda/envs/diploma/lib/python3.8/site-packages (from ipywidgets>=7.5->checklist==0.0.11->nlaugmenter==1.1.0) (3.6.0)\n",
      "Requirement already satisfied: ipython-genutils~=0.2.0 in /Users/a18692338/.conda/envs/diploma/lib/python3.8/site-packages (from ipywidgets>=7.5->checklist==0.0.11->nlaugmenter==1.1.0) (0.2.0)\n",
      "Requirement already satisfied: jupyter-console in /Users/a18692338/.conda/envs/diploma/lib/python3.8/site-packages (from jupyter>=1.0->checklist==0.0.11->nlaugmenter==1.1.0) (6.4.3)\n",
      "Requirement already satisfied: qtconsole in /Users/a18692338/.conda/envs/diploma/lib/python3.8/site-packages (from jupyter>=1.0->checklist==0.0.11->nlaugmenter==1.1.0) (5.3.0)\n",
      "Requirement already satisfied: nbconvert in /Users/a18692338/.conda/envs/diploma/lib/python3.8/site-packages (from jupyter>=1.0->checklist==0.0.11->nlaugmenter==1.1.0) (6.5.0)\n",
      "Requirement already satisfied: notebook in /Users/a18692338/.conda/envs/diploma/lib/python3.8/site-packages (from jupyter>=1.0->checklist==0.0.11->nlaugmenter==1.1.0) (6.4.11)\n",
      "Requirement already satisfied: six in /Users/a18692338/.conda/envs/diploma/lib/python3.8/site-packages (from munch>=2.5->checklist==0.0.11->nlaugmenter==1.1.0) (1.16.0)\n",
      "Requirement already satisfied: pyparsing!=3.0.5,>=2.0.2 in /Users/a18692338/.conda/envs/diploma/lib/python3.8/site-packages (from packaging->datasets==1.7.0->nlaugmenter==1.1.0) (3.0.8)\n",
      "Requirement already satisfied: urllib3<1.27,>=1.21.1 in /Users/a18692338/.conda/envs/diploma/lib/python3.8/site-packages (from requests>=2.18->allennlp==2.5.0->nlaugmenter==1.1.0) (1.26.9)\n",
      "Requirement already satisfied: certifi>=2017.4.17 in /Users/a18692338/.conda/envs/diploma/lib/python3.8/site-packages (from requests>=2.18->allennlp==2.5.0->nlaugmenter==1.1.0) (2021.10.8)\n",
      "Requirement already satisfied: idna<4,>=2.5 in /Users/a18692338/.conda/envs/diploma/lib/python3.8/site-packages (from requests>=2.18->allennlp==2.5.0->nlaugmenter==1.1.0) (2.10)\n",
      "Requirement already satisfied: charset-normalizer~=2.0.0 in /Users/a18692338/.conda/envs/diploma/lib/python3.8/site-packages (from requests>=2.18->allennlp==2.5.0->nlaugmenter==1.1.0) (2.0.12)\n",
      "Requirement already satisfied: threadpoolctl>=2.0.0 in /Users/a18692338/.conda/envs/diploma/lib/python3.8/site-packages (from scikit-learn->allennlp==2.5.0->nlaugmenter==1.1.0) (3.1.0)\n"
     ]
    },
    {
     "name": "stdout",
     "output_type": "stream",
     "text": [
      "Collecting protobuf>=3.8.0\n",
      "  Downloading protobuf-3.20.1-cp38-cp38-macosx_10_9_x86_64.whl (962 kB)\n",
      "\u001b[2K     \u001b[90m━━━━━━━━━━━━━━━━━━━━━━━━━━━━━━━━━━━━━━━\u001b[0m \u001b[32m962.3/962.3 KB\u001b[0m \u001b[31m1.9 MB/s\u001b[0m eta \u001b[36m0:00:00\u001b[0ma \u001b[36m0:00:01\u001b[0m\n",
      "\u001b[?25hRequirement already satisfied: pillow>=4.1.1 in /Users/a18692338/.conda/envs/diploma/lib/python3.8/site-packages (from torchvision<0.10.0,>=0.8.1->allennlp==2.5.0->nlaugmenter==1.1.0) (9.1.0)\n",
      "Collecting virtualenv>=20.0.8\n",
      "  Downloading virtualenv-20.14.0-py2.py3-none-any.whl (8.8 MB)\n",
      "\u001b[2K     \u001b[90m━━━━━━━━━━━━━━━━━━━━━━━━━━━━━━━━━━━━━━━━\u001b[0m \u001b[32m8.8/8.8 MB\u001b[0m \u001b[31m6.3 MB/s\u001b[0m eta \u001b[36m0:00:00\u001b[0m00:01\u001b[0m00:01\u001b[0m\n",
      "\u001b[?25h  Downloading virtualenv-20.13.4-py2.py3-none-any.whl (8.7 MB)\n",
      "\u001b[2K     \u001b[90m━━━━━━━━━━━━━━━━━━━━━━━━━━━━━━━━━━━━━━━━\u001b[0m \u001b[32m8.7/8.7 MB\u001b[0m \u001b[31m7.3 MB/s\u001b[0m eta \u001b[36m0:00:00\u001b[0m00:01\u001b[0m00:01\u001b[0m\n",
      "\u001b[?25h  Downloading virtualenv-20.13.3-py2.py3-none-any.whl (8.7 MB)\n",
      "\u001b[2K     \u001b[90m━━━━━━━━━━━━━━━━━━━━━━━━━━━━━━━━━━━━━━━━\u001b[0m \u001b[32m8.7/8.7 MB\u001b[0m \u001b[31m8.0 MB/s\u001b[0m eta \u001b[36m0:00:00\u001b[0m00:01\u001b[0m00:01\u001b[0m\n",
      "\u001b[?25h  Downloading virtualenv-20.13.2-py2.py3-none-any.whl (8.7 MB)\n",
      "\u001b[2K     \u001b[90m━━━━━━━━━━━━━━━━━━━━━━━━━━━━━━━━━━━━━━━━\u001b[0m \u001b[32m8.7/8.7 MB\u001b[0m \u001b[31m8.5 MB/s\u001b[0m eta \u001b[36m0:00:00\u001b[0m00:01\u001b[0m00:01\u001b[0m\n",
      "\u001b[?25h  Downloading virtualenv-20.13.1-py2.py3-none-any.whl (8.6 MB)\n",
      "\u001b[2K     \u001b[90m━━━━━━━━━━━━━━━━━━━━━━━━━━━━━━━━━━━━━━━━\u001b[0m \u001b[32m8.6/8.6 MB\u001b[0m \u001b[31m9.2 MB/s\u001b[0m eta \u001b[36m0:00:00\u001b[0m00:01\u001b[0m00:01\u001b[0mm\n",
      "\u001b[?25h  Downloading virtualenv-20.13.0-py2.py3-none-any.whl (6.5 MB)\n",
      "\u001b[2K     \u001b[90m━━━━━━━━━━━━━━━━━━━━━━━━━━━━━━━━━━━━━━━━\u001b[0m \u001b[32m6.5/6.5 MB\u001b[0m \u001b[31m9.1 MB/s\u001b[0m eta \u001b[36m0:00:00\u001b[0m00:01\u001b[0m00:01\u001b[0mm\n",
      "\u001b[?25h  Downloading virtualenv-20.12.1-py2.py3-none-any.whl (6.5 MB)\n",
      "\u001b[2K     \u001b[90m━━━━━━━━━━━━━━━━━━━━━━━━━━━━━━━━━━━━━━━━\u001b[0m \u001b[32m6.5/6.5 MB\u001b[0m \u001b[31m7.5 MB/s\u001b[0m eta \u001b[36m0:00:00\u001b[0m00:01\u001b[0m00:01\u001b[0m\n",
      "\u001b[?25h  Downloading virtualenv-20.12.0-py2.py3-none-any.whl (6.5 MB)\n",
      "\u001b[2K     \u001b[90m━━━━━━━━━━━━━━━━━━━━━━━━━━━━━━━━━━━━━━━━\u001b[0m \u001b[32m6.5/6.5 MB\u001b[0m \u001b[31m8.5 MB/s\u001b[0m eta \u001b[36m0:00:00\u001b[0m00:01\u001b[0m00:01\u001b[0m\n",
      "\u001b[?25h  Downloading virtualenv-20.11.2-py2.py3-none-any.whl (6.5 MB)\n",
      "\u001b[2K     \u001b[90m━━━━━━━━━━━━━━━━━━━━━━━━━━━━━━━━━━━━━━━━\u001b[0m \u001b[32m6.5/6.5 MB\u001b[0m \u001b[31m8.9 MB/s\u001b[0m eta \u001b[36m0:00:00\u001b[0m00:01\u001b[0m00:01\u001b[0mm\n",
      "\u001b[?25h  Downloading virtualenv-20.11.1-py2.py3-none-any.whl (6.5 MB)\n",
      "\u001b[2K     \u001b[90m━━━━━━━━━━━━━━━━━━━━━━━━━━━━━━━━━━━━━━━━\u001b[0m \u001b[32m6.5/6.5 MB\u001b[0m \u001b[31m7.2 MB/s\u001b[0m eta \u001b[36m0:00:00\u001b[0m00:01\u001b[0m00:01\u001b[0mm\n",
      "\u001b[?25h  Downloading virtualenv-20.11.0-py2.py3-none-any.whl (6.5 MB)\n",
      "\u001b[2K     \u001b[90m━━━━━━━━━━━━━━━━━━━━━━━━━━━━━━━━━━━━━━━━\u001b[0m \u001b[32m6.5/6.5 MB\u001b[0m \u001b[31m7.7 MB/s\u001b[0m eta \u001b[36m0:00:00\u001b[0m00:01\u001b[0m00:01\u001b[0m\n",
      "\u001b[?25h  Downloading virtualenv-20.10.0-py2.py3-none-any.whl (5.6 MB)\n",
      "\u001b[2K     \u001b[90m━━━━━━━━━━━━━━━━━━━━━━━━━━━━━━━━━━━━━━━━\u001b[0m \u001b[32m5.6/5.6 MB\u001b[0m \u001b[31m8.2 MB/s\u001b[0m eta \u001b[36m0:00:00\u001b[0m00:01\u001b[0m00:01\u001b[0m\n",
      "\u001b[?25hRequirement already satisfied: distlib<1,>=0.3.1 in /Users/a18692338/.conda/envs/diploma/lib/python3.8/site-packages (from virtualenv>=20.0.8->pre-commit==2.13.0->nlaugmenter==1.1.0) (0.3.4)\n",
      "Requirement already satisfied: platformdirs<3,>=2 in /Users/a18692338/.conda/envs/diploma/lib/python3.8/site-packages (from virtualenv>=20.0.8->pre-commit==2.13.0->nlaugmenter==1.1.0) (2.5.2)\n",
      "  Downloading virtualenv-20.9.0-py2.py3-none-any.whl (5.6 MB)\n",
      "\u001b[2K     \u001b[90m━━━━━━━━━━━━━━━━━━━━━━━━━━━━━━━━━━━━━━━━\u001b[0m \u001b[32m5.6/5.6 MB\u001b[0m \u001b[31m8.6 MB/s\u001b[0m eta \u001b[36m0:00:00\u001b[0m00:01\u001b[0m00:01\u001b[0m\n",
      "\u001b[?25h  Using cached virtualenv-20.8.1-py2.py3-none-any.whl (5.3 MB)\n",
      "Collecting backports.entry-points-selectable>=1.0.4\n",
      "  Downloading backports.entry_points_selectable-1.1.1-py2.py3-none-any.whl (6.2 kB)\n",
      "Collecting GitPython>=1.0.0\n",
      "  Downloading GitPython-3.1.27-py3-none-any.whl (181 kB)\n",
      "\u001b[2K     \u001b[90m━━━━━━━━━━━━━━━━━━━━━━━━━━━━━━━━━━━━━━━\u001b[0m \u001b[32m181.2/181.2 KB\u001b[0m \u001b[31m5.1 MB/s\u001b[0m eta \u001b[36m0:00:00\u001b[0m\n",
      "\u001b[?25hRequirement already satisfied: psutil>=5.0.0 in /Users/a18692338/.conda/envs/diploma/lib/python3.8/site-packages (from wandb<0.11.0,>=0.10.0->allennlp==2.5.0->nlaugmenter==1.1.0) (5.9.0)\n",
      "Collecting sentry-sdk>=0.4.0\n",
      "  Downloading sentry_sdk-1.5.10-py2.py3-none-any.whl (144 kB)\n",
      "\u001b[2K     \u001b[90m━━━━━━━━━━━━━━━━━━━━━━━━━━━━━━━━━━━━━━━\u001b[0m \u001b[32m144.9/144.9 KB\u001b[0m \u001b[31m4.0 MB/s\u001b[0m eta \u001b[36m0:00:00\u001b[0m\n",
      "\u001b[?25hCollecting promise<3,>=2.0\n",
      "  Downloading promise-2.3.tar.gz (19 kB)\n",
      "  Preparing metadata (setup.py) ... \u001b[?25ldone\n",
      "\u001b[?25hCollecting subprocess32>=3.5.3\n",
      "  Downloading subprocess32-3.5.4.tar.gz (97 kB)\n",
      "\u001b[2K     \u001b[90m━━━━━━━━━━━━━━━━━━━━━━━━━━━━━━━━━━━━━━━━\u001b[0m \u001b[32m97.4/97.4 KB\u001b[0m \u001b[31m3.3 MB/s\u001b[0m eta \u001b[36m0:00:00\u001b[0m\n",
      "\u001b[?25h  Preparing metadata (setup.py) ... \u001b[?25ldone\n",
      "\u001b[?25hCollecting configparser>=3.8.1\n",
      "  Downloading configparser-5.2.0-py3-none-any.whl (19 kB)\n",
      "Collecting pathtools\n",
      "  Downloading pathtools-0.1.2.tar.gz (11 kB)\n",
      "  Preparing metadata (setup.py) ... \u001b[?25ldone\n",
      "\u001b[?25hCollecting shortuuid>=0.5.0\n",
      "  Downloading shortuuid-1.0.8-py3-none-any.whl (9.5 kB)\n",
      "Collecting docker-pycreds>=0.4.0\n",
      "  Downloading docker_pycreds-0.4.0-py2.py3-none-any.whl (9.0 kB)\n",
      "Requirement already satisfied: soupsieve>1.2 in /Users/a18692338/.conda/envs/diploma/lib/python3.8/site-packages (from beautifulsoup4->pattern3==3.0.0->nlaugmenter==1.1.0) (2.3.2.post1)\n",
      "Requirement already satisfied: cheroot>=8.2.1 in /Users/a18692338/.conda/envs/diploma/lib/python3.8/site-packages (from cherrypy->pattern3==3.0.0->nlaugmenter==1.1.0) (8.6.0)\n",
      "Requirement already satisfied: portend>=2.1.1 in /Users/a18692338/.conda/envs/diploma/lib/python3.8/site-packages (from cherrypy->pattern3==3.0.0->nlaugmenter==1.1.0) (3.1.0)\n",
      "Requirement already satisfied: zc.lockfile in /Users/a18692338/.conda/envs/diploma/lib/python3.8/site-packages (from cherrypy->pattern3==3.0.0->nlaugmenter==1.1.0) (2.0)\n",
      "Requirement already satisfied: jaraco.collections in /Users/a18692338/.conda/envs/diploma/lib/python3.8/site-packages (from cherrypy->pattern3==3.0.0->nlaugmenter==1.1.0) (3.5.1)\n",
      "Requirement already satisfied: lxml in /Users/a18692338/.conda/envs/diploma/lib/python3.8/site-packages (from docx->pattern3==3.0.0->nlaugmenter==1.1.0) (4.8.0)\n",
      "Requirement already satisfied: sgmllib3k in /Users/a18692338/.conda/envs/diploma/lib/python3.8/site-packages (from feedparser->pattern3==3.0.0->nlaugmenter==1.1.0) (1.0.0)\n",
      "Requirement already satisfied: MarkupSafe>=2.0 in /Users/a18692338/.conda/envs/diploma/lib/python3.8/site-packages (from jinja2->spacy==3.0.0->nlaugmenter==1.1.0) (2.1.1)\n",
      "Requirement already satisfied: smart-open<6.0.0,>=5.0.0 in /Users/a18692338/.local/lib/python3.8/site-packages (from pathy->spacy==3.0.0->nlaugmenter==1.1.0) (5.2.1)\n",
      "Requirement already satisfied: backports.csv in /Users/a18692338/.conda/envs/diploma/lib/python3.8/site-packages (from patternfork-nosql->checklist==0.0.11->nlaugmenter==1.1.0) (1.0.7)\n",
      "Requirement already satisfied: python-docx in /Users/a18692338/.conda/envs/diploma/lib/python3.8/site-packages (from patternfork-nosql->checklist==0.0.11->nlaugmenter==1.1.0) (0.8.11)\n",
      "Requirement already satisfied: future in /Users/a18692338/.conda/envs/diploma/lib/python3.8/site-packages (from patternfork-nosql->checklist==0.0.11->nlaugmenter==1.1.0) (0.18.2)\n",
      "Requirement already satisfied: chardet in /Users/a18692338/.conda/envs/diploma/lib/python3.8/site-packages (from pdfminer.six->pattern3==3.0.0->nlaugmenter==1.1.0) (3.0.4)\n",
      "Requirement already satisfied: cryptography in /Users/a18692338/.conda/envs/diploma/lib/python3.8/site-packages (from pdfminer.six->pattern3==3.0.0->nlaugmenter==1.1.0) (37.0.1)\n",
      "Collecting ply\n",
      "  Downloading ply-3.11-py2.py3-none-any.whl (49 kB)\n",
      "\u001b[2K     \u001b[90m━━━━━━━━━━━━━━━━━━━━━━━━━━━━━━━━━━━━━━━━\u001b[0m \u001b[32m49.6/49.6 KB\u001b[0m \u001b[31m1.6 MB/s\u001b[0m eta \u001b[36m0:00:00\u001b[0m\n",
      "\u001b[?25hCollecting backports.zoneinfo\n",
      "  Downloading backports.zoneinfo-0.2.1-cp38-cp38-macosx_10_14_x86_64.whl (35 kB)\n",
      "Collecting pytz-deprecation-shim\n",
      "  Downloading pytz_deprecation_shim-0.1.0.post0-py2.py3-none-any.whl (15 kB)\n",
      "Requirement already satisfied: jaraco.functools in /Users/a18692338/.conda/envs/diploma/lib/python3.8/site-packages (from cheroot>=8.2.1->cherrypy->pattern3==3.0.0->nlaugmenter==1.1.0) (3.5.0)\n",
      "Collecting gitdb<5,>=4.0.1\n",
      "  Downloading gitdb-4.0.9-py3-none-any.whl (63 kB)\n"
     ]
    },
    {
     "name": "stdout",
     "output_type": "stream",
     "text": [
      "\u001b[2K     \u001b[90m━━━━━━━━━━━━━━━━━━━━━━━━━━━━━━━━━━━━━━━━\u001b[0m \u001b[32m63.1/63.1 KB\u001b[0m \u001b[31m2.0 MB/s\u001b[0m eta \u001b[36m0:00:00\u001b[0m\n",
      "\u001b[?25hCollecting pyasn1-modules>=0.2.1\n",
      "  Using cached pyasn1_modules-0.2.8-py2.py3-none-any.whl (155 kB)\n",
      "Collecting rsa<5,>=3.1.4\n",
      "  Using cached rsa-4.8-py3-none-any.whl (39 kB)\n",
      "Collecting cachetools<5.0,>=2.0.0\n",
      "  Using cached cachetools-4.2.4-py3-none-any.whl (10 kB)\n",
      "Collecting google-api-core<2.0.0dev,>=1.21.0\n",
      "  Downloading google_api_core-1.31.5-py2.py3-none-any.whl (93 kB)\n",
      "\u001b[2K     \u001b[90m━━━━━━━━━━━━━━━━━━━━━━━━━━━━━━━━━━━━━━━━\u001b[0m \u001b[32m93.3/93.3 KB\u001b[0m \u001b[31m3.5 MB/s\u001b[0m eta \u001b[36m0:00:00\u001b[0m\n",
      "\u001b[?25hCollecting google-crc32c<2.0dev,>=1.0\n",
      "  Downloading google_crc32c-1.3.0-cp38-cp38-macosx_10_9_x86_64.whl (30 kB)\n",
      "Requirement already satisfied: nest-asyncio in /Users/a18692338/.conda/envs/diploma/lib/python3.8/site-packages (from ipykernel>=4.5.1->ipywidgets>=7.5->checklist==0.0.11->nlaugmenter==1.1.0) (1.5.5)\n",
      "Requirement already satisfied: appnope in /Users/a18692338/.conda/envs/diploma/lib/python3.8/site-packages (from ipykernel>=4.5.1->ipywidgets>=7.5->checklist==0.0.11->nlaugmenter==1.1.0) (0.1.3)\n",
      "Requirement already satisfied: tornado>=6.1 in /Users/a18692338/.conda/envs/diploma/lib/python3.8/site-packages (from ipykernel>=4.5.1->ipywidgets>=7.5->checklist==0.0.11->nlaugmenter==1.1.0) (6.1)\n",
      "Requirement already satisfied: matplotlib-inline>=0.1 in /Users/a18692338/.conda/envs/diploma/lib/python3.8/site-packages (from ipykernel>=4.5.1->ipywidgets>=7.5->checklist==0.0.11->nlaugmenter==1.1.0) (0.1.3)\n",
      "Requirement already satisfied: jupyter-client>=6.1.12 in /Users/a18692338/.conda/envs/diploma/lib/python3.8/site-packages (from ipykernel>=4.5.1->ipywidgets>=7.5->checklist==0.0.11->nlaugmenter==1.1.0) (7.3.0)\n",
      "Requirement already satisfied: debugpy>=1.0 in /Users/a18692338/.conda/envs/diploma/lib/python3.8/site-packages (from ipykernel>=4.5.1->ipywidgets>=7.5->checklist==0.0.11->nlaugmenter==1.1.0) (1.6.0)\n",
      "Requirement already satisfied: pexpect>4.3 in /Users/a18692338/.conda/envs/diploma/lib/python3.8/site-packages (from ipython>=4.0.0->ipywidgets>=7.5->checklist==0.0.11->nlaugmenter==1.1.0) (4.8.0)\n",
      "Requirement already satisfied: pygments>=2.4.0 in /Users/a18692338/.conda/envs/diploma/lib/python3.8/site-packages (from ipython>=4.0.0->ipywidgets>=7.5->checklist==0.0.11->nlaugmenter==1.1.0) (2.12.0)\n",
      "Requirement already satisfied: backcall in /Users/a18692338/.conda/envs/diploma/lib/python3.8/site-packages (from ipython>=4.0.0->ipywidgets>=7.5->checklist==0.0.11->nlaugmenter==1.1.0) (0.2.0)\n",
      "Requirement already satisfied: pickleshare in /Users/a18692338/.conda/envs/diploma/lib/python3.8/site-packages (from ipython>=4.0.0->ipywidgets>=7.5->checklist==0.0.11->nlaugmenter==1.1.0) (0.7.5)\n",
      "Requirement already satisfied: stack-data in /Users/a18692338/.conda/envs/diploma/lib/python3.8/site-packages (from ipython>=4.0.0->ipywidgets>=7.5->checklist==0.0.11->nlaugmenter==1.1.0) (0.2.0)\n",
      "Requirement already satisfied: jedi>=0.16 in /Users/a18692338/.conda/envs/diploma/lib/python3.8/site-packages (from ipython>=4.0.0->ipywidgets>=7.5->checklist==0.0.11->nlaugmenter==1.1.0) (0.18.1)\n",
      "Requirement already satisfied: decorator in /Users/a18692338/.conda/envs/diploma/lib/python3.8/site-packages (from ipython>=4.0.0->ipywidgets>=7.5->checklist==0.0.11->nlaugmenter==1.1.0) (5.1.1)\n",
      "Requirement already satisfied: prompt-toolkit!=3.0.0,!=3.0.1,<3.1.0,>=2.0.0 in /Users/a18692338/.conda/envs/diploma/lib/python3.8/site-packages (from ipython>=4.0.0->ipywidgets>=7.5->checklist==0.0.11->nlaugmenter==1.1.0) (3.0.29)\n",
      "Requirement already satisfied: fastjsonschema in /Users/a18692338/.conda/envs/diploma/lib/python3.8/site-packages (from nbformat>=4.2.0->ipywidgets>=7.5->checklist==0.0.11->nlaugmenter==1.1.0) (2.15.3)\n",
      "Requirement already satisfied: jupyter-core in /Users/a18692338/.conda/envs/diploma/lib/python3.8/site-packages (from nbformat>=4.2.0->ipywidgets>=7.5->checklist==0.0.11->nlaugmenter==1.1.0) (4.10.0)\n",
      "Requirement already satisfied: jsonschema>=2.6 in /Users/a18692338/.conda/envs/diploma/lib/python3.8/site-packages (from nbformat>=4.2.0->ipywidgets>=7.5->checklist==0.0.11->nlaugmenter==1.1.0) (4.4.0)\n",
      "Requirement already satisfied: tempora>=1.8 in /Users/a18692338/.conda/envs/diploma/lib/python3.8/site-packages (from portend>=2.1.1->cherrypy->pattern3==3.0.0->nlaugmenter==1.1.0) (5.0.1)\n",
      "Requirement already satisfied: pyzmq>=17 in /Users/a18692338/.conda/envs/diploma/lib/python3.8/site-packages (from notebook->jupyter>=1.0->checklist==0.0.11->nlaugmenter==1.1.0) (22.3.0)\n",
      "Requirement already satisfied: prometheus-client in /Users/a18692338/.conda/envs/diploma/lib/python3.8/site-packages (from notebook->jupyter>=1.0->checklist==0.0.11->nlaugmenter==1.1.0) (0.14.1)\n",
      "Requirement already satisfied: terminado>=0.8.3 in /Users/a18692338/.conda/envs/diploma/lib/python3.8/site-packages (from notebook->jupyter>=1.0->checklist==0.0.11->nlaugmenter==1.1.0) (0.13.3)\n",
      "Requirement already satisfied: Send2Trash>=1.8.0 in /Users/a18692338/.conda/envs/diploma/lib/python3.8/site-packages (from notebook->jupyter>=1.0->checklist==0.0.11->nlaugmenter==1.1.0) (1.8.0)\n",
      "Requirement already satisfied: argon2-cffi in /Users/a18692338/.conda/envs/diploma/lib/python3.8/site-packages (from notebook->jupyter>=1.0->checklist==0.0.11->nlaugmenter==1.1.0) (21.3.0)\n",
      "Requirement already satisfied: entrypoints>=0.2.2 in /Users/a18692338/.conda/envs/diploma/lib/python3.8/site-packages (from nbconvert->jupyter>=1.0->checklist==0.0.11->nlaugmenter==1.1.0) (0.4)\n",
      "Requirement already satisfied: nbclient>=0.5.0 in /Users/a18692338/.conda/envs/diploma/lib/python3.8/site-packages (from nbconvert->jupyter>=1.0->checklist==0.0.11->nlaugmenter==1.1.0) (0.6.0)\n",
      "Requirement already satisfied: defusedxml in /Users/a18692338/.conda/envs/diploma/lib/python3.8/site-packages (from nbconvert->jupyter>=1.0->checklist==0.0.11->nlaugmenter==1.1.0) (0.7.1)\n",
      "Requirement already satisfied: pandocfilters>=1.4.1 in /Users/a18692338/.conda/envs/diploma/lib/python3.8/site-packages (from nbconvert->jupyter>=1.0->checklist==0.0.11->nlaugmenter==1.1.0) (1.5.0)\n",
      "Requirement already satisfied: jupyterlab-pygments in /Users/a18692338/.conda/envs/diploma/lib/python3.8/site-packages (from nbconvert->jupyter>=1.0->checklist==0.0.11->nlaugmenter==1.1.0) (0.2.2)\n",
      "Requirement already satisfied: mistune<2,>=0.8.1 in /Users/a18692338/.conda/envs/diploma/lib/python3.8/site-packages (from nbconvert->jupyter>=1.0->checklist==0.0.11->nlaugmenter==1.1.0) (0.8.4)\n",
      "Requirement already satisfied: bleach in /Users/a18692338/.conda/envs/diploma/lib/python3.8/site-packages (from nbconvert->jupyter>=1.0->checklist==0.0.11->nlaugmenter==1.1.0) (5.0.0)\n",
      "Requirement already satisfied: tinycss2 in /Users/a18692338/.conda/envs/diploma/lib/python3.8/site-packages (from nbconvert->jupyter>=1.0->checklist==0.0.11->nlaugmenter==1.1.0) (1.1.1)\n",
      "Requirement already satisfied: cffi>=1.12 in /Users/a18692338/.conda/envs/diploma/lib/python3.8/site-packages (from cryptography->pdfminer.six->pattern3==3.0.0->nlaugmenter==1.1.0) (1.15.0)\n",
      "Requirement already satisfied: jaraco.text in /Users/a18692338/.conda/envs/diploma/lib/python3.8/site-packages (from jaraco.collections->cherrypy->pattern3==3.0.0->nlaugmenter==1.1.0) (3.7.0)\n",
      "Requirement already satisfied: jaraco.classes in /Users/a18692338/.conda/envs/diploma/lib/python3.8/site-packages (from jaraco.collections->cherrypy->pattern3==3.0.0->nlaugmenter==1.1.0) (3.2.1)\n",
      "Collecting tzdata\n",
      "  Downloading tzdata-2022.1-py2.py3-none-any.whl (339 kB)\n",
      "\u001b[2K     \u001b[90m━━━━━━━━━━━━━━━━━━━━━━━━━━━━━━━━━━━━━━━\u001b[0m \u001b[32m339.5/339.5 KB\u001b[0m \u001b[31m5.6 MB/s\u001b[0m eta \u001b[36m0:00:00\u001b[0m00:01\u001b[0m\n",
      "\u001b[?25hRequirement already satisfied: qtpy>=2.0.1 in /Users/a18692338/.conda/envs/diploma/lib/python3.8/site-packages (from qtconsole->jupyter>=1.0->checklist==0.0.11->nlaugmenter==1.1.0) (2.0.1)\n",
      "Requirement already satisfied: pycparser in /Users/a18692338/.conda/envs/diploma/lib/python3.8/site-packages (from cffi>=1.12->cryptography->pdfminer.six->pattern3==3.0.0->nlaugmenter==1.1.0) (2.21)\n",
      "Collecting smmap<6,>=3.0.1\n",
      "  Downloading smmap-5.0.0-py3-none-any.whl (24 kB)\n",
      "Collecting googleapis-common-protos<2.0dev,>=1.6.0\n",
      "  Downloading googleapis_common_protos-1.56.0-py2.py3-none-any.whl (241 kB)\n"
     ]
    },
    {
     "name": "stdout",
     "output_type": "stream",
     "text": [
      "\u001b[2K     \u001b[90m━━━━━━━━━━━━━━━━━━━━━━━━━━━━━━━━━━━━━━━\u001b[0m \u001b[32m241.5/241.5 KB\u001b[0m \u001b[31m5.2 MB/s\u001b[0m eta \u001b[36m0:00:00\u001b[0m00:01\u001b[0m\n",
      "\u001b[?25hRequirement already satisfied: parso<0.9.0,>=0.8.0 in /Users/a18692338/.conda/envs/diploma/lib/python3.8/site-packages (from jedi>=0.16->ipython>=4.0.0->ipywidgets>=7.5->checklist==0.0.11->nlaugmenter==1.1.0) (0.8.3)\n",
      "Requirement already satisfied: importlib-resources>=1.4.0 in /Users/a18692338/.conda/envs/diploma/lib/python3.8/site-packages (from jsonschema>=2.6->nbformat>=4.2.0->ipywidgets>=7.5->checklist==0.0.11->nlaugmenter==1.1.0) (5.7.1)\n",
      "Requirement already satisfied: pyrsistent!=0.17.0,!=0.17.1,!=0.17.2,>=0.14.0 in /Users/a18692338/.conda/envs/diploma/lib/python3.8/site-packages (from jsonschema>=2.6->nbformat>=4.2.0->ipywidgets>=7.5->checklist==0.0.11->nlaugmenter==1.1.0) (0.18.1)\n",
      "Requirement already satisfied: ptyprocess>=0.5 in /Users/a18692338/.conda/envs/diploma/lib/python3.8/site-packages (from pexpect>4.3->ipython>=4.0.0->ipywidgets>=7.5->checklist==0.0.11->nlaugmenter==1.1.0) (0.7.0)\n",
      "Collecting pyasn1<0.5.0,>=0.4.6\n",
      "  Using cached pyasn1-0.4.8-py2.py3-none-any.whl (77 kB)\n",
      "Requirement already satisfied: argon2-cffi-bindings in /Users/a18692338/.conda/envs/diploma/lib/python3.8/site-packages (from argon2-cffi->notebook->jupyter>=1.0->checklist==0.0.11->nlaugmenter==1.1.0) (21.2.0)\n",
      "Requirement already satisfied: webencodings in /Users/a18692338/.conda/envs/diploma/lib/python3.8/site-packages (from bleach->nbconvert->jupyter>=1.0->checklist==0.0.11->nlaugmenter==1.1.0) (0.5.1)\n",
      "Requirement already satisfied: jaraco.context>=4.1 in /Users/a18692338/.conda/envs/diploma/lib/python3.8/site-packages (from jaraco.text->jaraco.collections->cherrypy->pattern3==3.0.0->nlaugmenter==1.1.0) (4.1.1)\n",
      "Requirement already satisfied: executing in /Users/a18692338/.conda/envs/diploma/lib/python3.8/site-packages (from stack-data->ipython>=4.0.0->ipywidgets>=7.5->checklist==0.0.11->nlaugmenter==1.1.0) (0.8.3)\n",
      "Requirement already satisfied: pure-eval in /Users/a18692338/.conda/envs/diploma/lib/python3.8/site-packages (from stack-data->ipython>=4.0.0->ipywidgets>=7.5->checklist==0.0.11->nlaugmenter==1.1.0) (0.2.2)\n",
      "Requirement already satisfied: asttokens in /Users/a18692338/.conda/envs/diploma/lib/python3.8/site-packages (from stack-data->ipython>=4.0.0->ipywidgets>=7.5->checklist==0.0.11->nlaugmenter==1.1.0) (2.0.5)\n",
      "Requirement already satisfied: zipp>=3.1.0 in /Users/a18692338/.conda/envs/diploma/lib/python3.8/site-packages (from importlib-resources>=1.4.0->jsonschema>=2.6->nbformat>=4.2.0->ipywidgets>=7.5->checklist==0.0.11->nlaugmenter==1.1.0) (3.8.0)\n",
      "Building wheels for collected packages: ftfy, jellyfish, langid, pattern3, overrides, termcolor, aaransia, fasttext, jsonnet, docx, distance, promise, subprocess32, pathtools\n",
      "  Building wheel for ftfy (setup.py) ... \u001b[?25ldone\n",
      "\u001b[?25h  Created wheel for ftfy: filename=ftfy-6.0.3-py3-none-any.whl size=41933 sha256=f56d8aafc170396fd518422f8070ec025e934868ffd2e94a0663120a50895e9d\n",
      "  Stored in directory: /Users/a18692338/Library/Caches/pip/wheels/7f/40/63/4bf603cec3ecc4a26985405834cb47eb8368bfa59e15dde046\n",
      "  Building wheel for jellyfish (setup.py) ... \u001b[?25ldone\n",
      "\u001b[?25h  Created wheel for jellyfish: filename=jellyfish-0.8.2-cp38-cp38-macosx_10_9_x86_64.whl size=24700 sha256=48904aa53d8fec6414ded5171045185388828fd2fdadde84bb9d8215bee6a486\n",
      "  Stored in directory: /Users/a18692338/Library/Caches/pip/wheels/dc/f2/ee/514a3c4bd93af451c473dfc24fc5238838e21df77f76f385eb\n",
      "  Building wheel for langid (setup.py) ... \u001b[?25ldone\n",
      "\u001b[?25h  Created wheel for langid: filename=langid-1.1.6-py3-none-any.whl size=1941188 sha256=eeabe67302691b5952bfd9f8666693e7c827acb9e9586a2875cbda24f2e3177c\n",
      "  Stored in directory: /Users/a18692338/Library/Caches/pip/wheels/c5/01/a4/0160c55074707b535a6757a541842817d530d8080ca943a107\n",
      "  Building wheel for pattern3 (setup.py) ... \u001b[?25ldone\n",
      "\u001b[?25h  Created wheel for pattern3: filename=pattern3-3.0.0-py2.py3-none-any.whl size=18554351 sha256=4800b334a1b7f84559ddac1a9bdf4771997af68b868cd21fbad5e3919e158c63\n",
      "  Stored in directory: /Users/a18692338/Library/Caches/pip/wheels/15/b7/69/d81044899221ca012f556e2059ce7c58cb90fbd0fd9a395c4d\n",
      "  Building wheel for overrides (setup.py) ... \u001b[?25ldone\n",
      "\u001b[?25h  Created wheel for overrides: filename=overrides-3.1.0-py3-none-any.whl size=10187 sha256=e0aac21b0d3ebbbbc23198fa7c3c3f3f1931197db5c4170aa91eae011e444d12\n",
      "  Stored in directory: /Users/a18692338/Library/Caches/pip/wheels/6a/4f/72/28857f75625b263e2e3f5ab2fc4416c0a85960ac6485007eaa\n",
      "  Building wheel for termcolor (setup.py) ... \u001b[?25ldone\n",
      "\u001b[?25h  Created wheel for termcolor: filename=termcolor-1.1.0-py3-none-any.whl size=4848 sha256=53d62d5d9ae416ac2f1449854a68f8eb4502ac69a17a3df750c9e455688ffdb1\n",
      "  Stored in directory: /Users/a18692338/Library/Caches/pip/wheels/a0/16/9c/5473df82468f958445479c59e784896fa24f4a5fc024b0f501\n",
      "  Building wheel for aaransia (setup.py) ... \u001b[?25ldone\n",
      "\u001b[?25h  Created wheel for aaransia: filename=aaransia-1.1-py3-none-any.whl size=45745 sha256=44da2801b7a3acb17a2c8874e711ffdc53a5a0b4c703eb49ce3c9ecdf1546b66\n",
      "  Stored in directory: /Users/a18692338/Library/Caches/pip/wheels/d2/4f/6d/9bdbc8f2338eaecf635918a7f52ffa89beea29ea7dbfd6b5e3\n",
      "  Building wheel for fasttext (setup.py) ... \u001b[?25ldone\n",
      "\u001b[?25h  Created wheel for fasttext: filename=fasttext-0.9.2-cp38-cp38-macosx_10_16_x86_64.whl size=350735 sha256=d7c946d3ea5f5893da107e1cf7bfdd877f74323a35e337af052a487a11f98ffc\n",
      "  Stored in directory: /Users/a18692338/Library/Caches/pip/wheels/93/61/2a/c54711a91c418ba06ba195b1d78ff24fcaad8592f2a694ac94\n",
      "  Building wheel for jsonnet (setup.py) ... \u001b[?25ldone\n",
      "\u001b[?25h  Created wheel for jsonnet: filename=jsonnet-0.18.0-cp38-cp38-macosx_10_9_x86_64.whl size=479899 sha256=3642d1966a8509684f09b52cc681d61d548285c9b6863e30d1d2093f24cd573f\n",
      "  Stored in directory: /Users/a18692338/Library/Caches/pip/wheels/f0/ea/d5/3c0d40b9cde620d70643928d9583410e9c93471bf891bc14a5\n",
      "  Building wheel for docx (setup.py) ... \u001b[?25ldone\n",
      "\u001b[?25h  Created wheel for docx: filename=docx-0.2.4-py3-none-any.whl size=53924 sha256=a2391f4c68ae5d29d5869974f734e6fbfea4eeed68f4e22c9c27655eeb5e3ef5\n",
      "  Stored in directory: /Users/a18692338/Library/Caches/pip/wheels/78/ae/2e/5ce789557ca59281a463dabe9d6522e429be240322148e5379\n",
      "  Building wheel for distance (setup.py) ... \u001b[?25ldone\n",
      "\u001b[?25h  Created wheel for distance: filename=Distance-0.1.3-py3-none-any.whl size=16276 sha256=b9247b2f7698e9976f60d824a943de602eec12c3ef93a502fc9a96bd22b45b60\n",
      "  Stored in directory: /Users/a18692338/Library/Caches/pip/wheels/fb/a8/64/6edcab63ec51512a87cacf9b3563c711ad6b7b05d61b704493\n",
      "  Building wheel for promise (setup.py) ... \u001b[?25ldone\n",
      "\u001b[?25h  Created wheel for promise: filename=promise-2.3-py3-none-any.whl size=21503 sha256=3052bb71142418bfa4cb84771b628a45c7c9a26283ab00ca8acd6948eff06af4\n",
      "  Stored in directory: /Users/a18692338/Library/Caches/pip/wheels/54/aa/01/724885182f93150035a2a91bce34a12877e8067a97baaf5dc8\n",
      "  Building wheel for subprocess32 (setup.py) ... \u001b[?25ldone\n",
      "\u001b[?25h  Created wheel for subprocess32: filename=subprocess32-3.5.4-py3-none-any.whl size=6502 sha256=317fdabad5dc6b7d2fd75d06d97dc7e2e77a7786e64a2b6658c7d37d05afc6fb\n",
      "  Stored in directory: /Users/a18692338/Library/Caches/pip/wheels/9f/69/d1/50b39b308a87998eaf5c1d9095e5a5bd2ad98501e2b7936d36\n",
      "  Building wheel for pathtools (setup.py) ... \u001b[?25ldone\n",
      "\u001b[?25h  Created wheel for pathtools: filename=pathtools-0.1.2-py3-none-any.whl size=8806 sha256=132d445ec9c65467c1fb890f04a38b1b104bf30649ae17ced7dbce6731f851bd\n",
      "  Stored in directory: /Users/a18692338/Library/Caches/pip/wheels/4c/8e/7e/72fbc243e1aeecae64a96875432e70d4e92f3d2d18123be004\n",
      "Successfully built ftfy jellyfish langid pattern3 overrides termcolor aaransia fasttext jsonnet docx distance promise subprocess32 pathtools\n",
      "Installing collected packages: termcolor, pyinflect, pyasn1, py-rouge, ply, phonenumbers, pathtools, overrides, lmdb, jsonnet, gender-extractor, filelock, distance, conllu, unidecode, tzdata, torch, subprocess32, smmap, simplejson, shortuuid, sentry-sdk, rsa, pybind11, pyasn1-modules, protobuf, promise, pdfminer3k, nltk, lemminflect, langid, jmespath, jellyfish, inflect, h5py, google-crc32c, ftfy, docx, docker-pycreds, configparser, cmudict, cachetools, backports.zoneinfo, backports.entry-points-selectable, Babel, virtualenv, torchvision, torchtext, textblob, tensorboardX, pytz-deprecation-shim, googleapis-common-protos, google-resumable-media, google-auth, gitdb, g2p-en, forex-python, fasttext, botocore, tzlocal, SoundsLike, s3transfer, google-api-core, GitPython, ftlid, aaransia, wandb, spacytextblob, google-cloud-core, dateparser, boto3, pattern3, google-cloud-storage, allennlp, allennlp-models, nlaugmenter\n"
     ]
    },
    {
     "name": "stdout",
     "output_type": "stream",
     "text": [
      "  Attempting uninstall: filelock\n",
      "    Found existing installation: filelock 3.6.0\n",
      "    Uninstalling filelock-3.6.0:\n",
      "      Successfully uninstalled filelock-3.6.0\n",
      "  Attempting uninstall: torch\n",
      "    Found existing installation: torch 1.11.0\n",
      "    Uninstalling torch-1.11.0:\n",
      "      Successfully uninstalled torch-1.11.0\n",
      "  Attempting uninstall: nltk\n",
      "    Found existing installation: nltk 3.7\n",
      "    Uninstalling nltk-3.7:\n",
      "      Successfully uninstalled nltk-3.7\n",
      "  Attempting uninstall: virtualenv\n",
      "    Found existing installation: virtualenv 20.14.1\n",
      "    Uninstalling virtualenv-20.14.1:\n",
      "      Successfully uninstalled virtualenv-20.14.1\n",
      "  Running setup.py develop for nlaugmenter\n",
      "\u001b[31mERROR: pip's dependency resolver does not currently take into account all the packages that are installed. This behaviour is the source of the following dependency conflicts.\n",
      "bert-for-sequence-classification 0.0.2 requires transformers==4.2.0, but you have transformers 4.6.1 which is incompatible.\u001b[0m\u001b[31m\n",
      "\u001b[0mSuccessfully installed Babel-2.9.1 GitPython-3.1.27 SoundsLike-0.0.11 aaransia-1.1 allennlp-2.5.0 allennlp-models-2.5.0 backports.entry-points-selectable-1.1.1 backports.zoneinfo-0.2.1 boto3-1.22.3 botocore-1.25.3 cachetools-4.2.4 cmudict-1.0.2 configparser-5.2.0 conllu-4.4 dateparser-1.0.0 distance-0.1.3 docker-pycreds-0.4.0 docx-0.2.4 fasttext-0.9.2 filelock-3.0.12 forex-python-1.6 ftfy-6.0.3 ftlid-0.1.2 g2p-en-2.1.0 gender-extractor-0.1.3 gitdb-4.0.9 google-api-core-1.31.5 google-auth-1.35.0 google-cloud-core-1.7.2 google-cloud-storage-1.38.0 google-crc32c-1.3.0 google-resumable-media-1.3.3 googleapis-common-protos-1.56.0 h5py-3.6.0 inflect-5.3.0 jellyfish-0.8.2 jmespath-1.0.0 jsonnet-0.18.0 langid-1.1.6 lemminflect-0.2.2 lmdb-1.3.0 nlaugmenter nltk-3.6.2 overrides-3.1.0 pathtools-0.1.2 pattern3-3.0.0 pdfminer3k-1.3.4 phonenumbers-8.12.25 ply-3.11 promise-2.3 protobuf-3.20.1 py-rouge-1.1 pyasn1-0.4.8 pyasn1-modules-0.2.8 pybind11-2.9.2 pyinflect-0.5.1 pytz-deprecation-shim-0.1.0.post0 rsa-4.8 s3transfer-0.5.2 sentry-sdk-1.5.10 shortuuid-1.0.8 simplejson-3.17.6 smmap-5.0.0 spacytextblob-3.0.1 subprocess32-3.5.4 tensorboardX-2.5 termcolor-1.1.0 textblob-0.15.3 torch-1.8.1 torchtext-0.9.1 torchvision-0.9.1 tzdata-2022.1 tzlocal-4.2 unidecode-1.3.4 virtualenv-20.8.1 wandb-0.10.33\n"
     ]
    }
   ],
   "source": [
    "!python setup.py sdist\n",
    "!pip install -e ."
   ]
  },
  {
   "cell_type": "code",
   "execution_count": 6,
   "id": "b9cb7239",
   "metadata": {
    "scrolled": true
   },
   "outputs": [],
   "source": [
    "# !pip install transformers==4.2.0"
   ]
  },
  {
   "cell_type": "code",
   "execution_count": 13,
   "id": "29e6386b",
   "metadata": {},
   "outputs": [],
   "source": [
    "# !git clone https://www.github.com/GEM-benchmark/NL-Augmenter\n",
    "# !pip install -r requirements.txt --quiet\n",
    "# !pip install https://github.com/explosion/spacy-models/releases/download/en_core_web_sm-3.0.0/en_core_web_sm-3.0.0.tar.gz"
   ]
  },
  {
   "cell_type": "code",
   "execution_count": 21,
   "id": "f9c56fa0",
   "metadata": {},
   "outputs": [
    {
     "ename": "ModuleNotFoundError",
     "evalue": "No module named 'transformations'",
     "output_type": "error",
     "traceback": [
      "\u001b[0;31m---------------------------------------------------------------------------\u001b[0m",
      "\u001b[0;31mModuleNotFoundError\u001b[0m                       Traceback (most recent call last)",
      "Input \u001b[0;32mIn [21]\u001b[0m, in \u001b[0;36m<cell line: 1>\u001b[0;34m()\u001b[0m\n\u001b[0;32m----> 1\u001b[0m \u001b[38;5;28;01mfrom\u001b[39;00m \u001b[38;5;21;01mtransformations\u001b[39;00m\u001b[38;5;21;01m.\u001b[39;00m\u001b[38;5;21;01mmultilingual_back_translation\u001b[39;00m\u001b[38;5;21;01m.\u001b[39;00m\u001b[38;5;21;01mtransformation\u001b[39;00m \u001b[38;5;28;01mimport\u001b[39;00m MultilingualBackTranslation\n",
      "\u001b[0;31mModuleNotFoundError\u001b[0m: No module named 'transformations'"
     ]
    }
   ],
   "source": [
    "from transformations.multilingual_back_translation.transformation import MultilingualBackTranslation"
   ]
  },
  {
   "cell_type": "code",
   "execution_count": 28,
   "id": "c5592476",
   "metadata": {
    "scrolled": true
   },
   "outputs": [
    {
     "data": {
      "application/vnd.jupyter.widget-view+json": {
       "model_id": "3b5510f6edfc4d859428e9a80856e954",
       "version_major": 2,
       "version_minor": 0
      },
      "text/plain": [
       "HBox(children=(FloatProgress(value=0.0, description='Downloading', max=908.0, style=ProgressStyle(description_…"
      ]
     },
     "metadata": {},
     "output_type": "display_data"
    },
    {
     "name": "stdout",
     "output_type": "stream",
     "text": [
      "\n"
     ]
    },
    {
     "data": {
      "application/vnd.jupyter.widget-view+json": {
       "model_id": "c589084d0f6d4b0d943bc074d015374a",
       "version_major": 2,
       "version_minor": 0
      },
      "text/plain": [
       "HBox(children=(FloatProgress(value=0.0, description='Downloading', max=1935796948.0, style=ProgressStyle(descr…"
      ]
     },
     "metadata": {},
     "output_type": "display_data"
    },
    {
     "name": "stdout",
     "output_type": "stream",
     "text": [
      "\n"
     ]
    },
    {
     "data": {
      "application/vnd.jupyter.widget-view+json": {
       "model_id": "072a587c36d14e318149803a653d9512",
       "version_major": 2,
       "version_minor": 0
      },
      "text/plain": [
       "HBox(children=(FloatProgress(value=0.0, description='Downloading', max=3708092.0, style=ProgressStyle(descript…"
      ]
     },
     "metadata": {},
     "output_type": "display_data"
    },
    {
     "name": "stdout",
     "output_type": "stream",
     "text": [
      "\n"
     ]
    },
    {
     "data": {
      "application/vnd.jupyter.widget-view+json": {
       "model_id": "61fcc79314704b1b930ba58e9b257c45",
       "version_major": 2,
       "version_minor": 0
      },
      "text/plain": [
       "HBox(children=(FloatProgress(value=0.0, description='Downloading', max=2423393.0, style=ProgressStyle(descript…"
      ]
     },
     "metadata": {},
     "output_type": "display_data"
    },
    {
     "name": "stdout",
     "output_type": "stream",
     "text": [
      "\n"
     ]
    },
    {
     "data": {
      "application/vnd.jupyter.widget-view+json": {
       "model_id": "c6fb569fb9174be8bc9199da0002833f",
       "version_major": 2,
       "version_minor": 0
      },
      "text/plain": [
       "HBox(children=(FloatProgress(value=0.0, description='Downloading', max=272.0, style=ProgressStyle(description_…"
      ]
     },
     "metadata": {},
     "output_type": "display_data"
    },
    {
     "name": "stdout",
     "output_type": "stream",
     "text": [
      "\n"
     ]
    },
    {
     "data": {
      "application/vnd.jupyter.widget-view+json": {
       "model_id": "47ad2db00b19451497af0da3acaef376",
       "version_major": 2,
       "version_minor": 0
      },
      "text/plain": [
       "HBox(children=(FloatProgress(value=0.0, description='Downloading', max=1140.0, style=ProgressStyle(description…"
      ]
     },
     "metadata": {},
     "output_type": "display_data"
    },
    {
     "name": "stdout",
     "output_type": "stream",
     "text": [
      "\n"
     ]
    }
   ],
   "source": [
    "translator = MultilingualBackTranslation(src_lang='ru', pivot_lang='en')"
   ]
  },
  {
   "cell_type": "code",
   "execution_count": null,
   "id": "c28e46b6",
   "metadata": {},
   "outputs": [],
   "source": [
    "fails = 0\n",
    "for i, raw in tqdm(df.iterrows()):\n",
    "    \n",
    "    text, label = raw[text_column], raw[label_column]\n",
    "    try:\n",
    "        new_text = translator.generate(text)\n",
    "        texts.append(new_text)\n",
    "        labels.append(label)\n",
    "    except:\n",
    "        print(f\"Fail: {text}\")\n",
    "        fails += 1\n",
    "        \n",
    "print(f\"Failed {fails} times.\")\n",
    "print(len(texts), len(labels))"
   ]
  },
  {
   "cell_type": "markdown",
   "id": "6542f6ca",
   "metadata": {},
   "source": [
    "# RU - DE - RU"
   ]
  },
  {
   "cell_type": "code",
   "execution_count": null,
   "id": "a54205df",
   "metadata": {},
   "outputs": [],
   "source": [
    "translator = MultilingualBackTranslation(src_lang='ru', pivot_lang='de')"
   ]
  },
  {
   "cell_type": "code",
   "execution_count": null,
   "id": "e89008e4",
   "metadata": {},
   "outputs": [],
   "source": [
    "fails = 0\n",
    "for i, raw in df.iterrows():\n",
    "    \n",
    "    text, label = raw[text_column], raw[label_column]\n",
    "    try:\n",
    "        new_text = translator.generate(text)\n",
    "        texts.append(new_text)\n",
    "        labels.append(label)\n",
    "    except:\n",
    "        print(f\"Fail: {text}\")\n",
    "        fails += 1\n",
    "        \n",
    "print(f\"Failed {fails} times.\")\n",
    "print(len(texts), len(labels))"
   ]
  },
  {
   "cell_type": "markdown",
   "id": "5aeb5a47",
   "metadata": {},
   "source": [
    "# Final DF"
   ]
  },
  {
   "cell_type": "code",
   "execution_count": 17,
   "id": "1c7044a1",
   "metadata": {},
   "outputs": [
    {
     "name": "stdout",
     "output_type": "stream",
     "text": [
      "(23327, 2)\n"
     ]
    },
    {
     "data": {
      "text/html": [
       "<div>\n",
       "<style scoped>\n",
       "    .dataframe tbody tr th:only-of-type {\n",
       "        vertical-align: middle;\n",
       "    }\n",
       "\n",
       "    .dataframe tbody tr th {\n",
       "        vertical-align: top;\n",
       "    }\n",
       "\n",
       "    .dataframe thead th {\n",
       "        text-align: right;\n",
       "    }\n",
       "</style>\n",
       "<table border=\"1\" class=\"dataframe\">\n",
       "  <thead>\n",
       "    <tr style=\"text-align: right;\">\n",
       "      <th></th>\n",
       "      <th>Текст</th>\n",
       "      <th>Тональность</th>\n",
       "    </tr>\n",
       "  </thead>\n",
       "  <tbody>\n",
       "    <tr>\n",
       "      <th>23317</th>\n",
       "      <td>Наша земля ужасна, мы скоро споткнемся.</td>\n",
       "      <td>Отрицательный</td>\n",
       "    </tr>\n",
       "    <tr>\n",
       "      <th>23318</th>\n",
       "      <td>доволен качеством</td>\n",
       "      <td>Положительный</td>\n",
       "    </tr>\n",
       "    <tr>\n",
       "      <th>23319</th>\n",
       "      <td>Этот процесс вообще не организован.</td>\n",
       "      <td>Отрицательный</td>\n",
       "    </tr>\n",
       "    <tr>\n",
       "      <th>23320</th>\n",
       "      <td>спасибо за транспорт</td>\n",
       "      <td>Положительный</td>\n",
       "    </tr>\n",
       "    <tr>\n",
       "      <th>23321</th>\n",
       "      <td>В Долинском офисе ужасная работа клиринговой к...</td>\n",
       "      <td>Отрицательный</td>\n",
       "    </tr>\n",
       "    <tr>\n",
       "      <th>23322</th>\n",
       "      <td>Сервис удобный, но зданию требуется полный рем...</td>\n",
       "      <td>Положительный</td>\n",
       "    </tr>\n",
       "    <tr>\n",
       "      <th>23323</th>\n",
       "      <td>Долго ждать возврата автомобиля клиента. Часто...</td>\n",
       "      <td>Отрицательный</td>\n",
       "    </tr>\n",
       "    <tr>\n",
       "      <th>23324</th>\n",
       "      <td>'</td>\n",
       "      <td>Без комментариев</td>\n",
       "    </tr>\n",
       "    <tr>\n",
       "      <th>23325</th>\n",
       "      <td>Сервис быстрый</td>\n",
       "      <td>Положительный</td>\n",
       "    </tr>\n",
       "    <tr>\n",
       "      <th>23326</th>\n",
       "      <td>все очень хорошо сделано</td>\n",
       "      <td>Положительный</td>\n",
       "    </tr>\n",
       "  </tbody>\n",
       "</table>\n",
       "</div>"
      ],
      "text/plain": [
       "                                                   Текст       Тональность\n",
       "23317            Наша земля ужасна, мы скоро споткнемся.     Отрицательный\n",
       "23318                                  доволен качеством     Положительный\n",
       "23319                Этот процесс вообще не организован.     Отрицательный\n",
       "23320                               спасибо за транспорт     Положительный\n",
       "23321  В Долинском офисе ужасная работа клиринговой к...     Отрицательный\n",
       "23322  Сервис удобный, но зданию требуется полный рем...     Положительный\n",
       "23323  Долго ждать возврата автомобиля клиента. Часто...     Отрицательный\n",
       "23324                                                  '  Без комментариев\n",
       "23325                                     Сервис быстрый     Положительный\n",
       "23326                           все очень хорошо сделано     Положительный"
      ]
     },
     "execution_count": 17,
     "metadata": {},
     "output_type": "execute_result"
    }
   ],
   "source": [
    "df_done = pd.DataFrame()\n",
    "\n",
    "df_done[text_column] = texts\n",
    "df_done[label_column] = labels\n",
    "\n",
    "print(df_done.shape)\n",
    "df_done.tail(10)"
   ]
  },
  {
   "cell_type": "code",
   "execution_count": 18,
   "id": "8c800613",
   "metadata": {},
   "outputs": [],
   "source": [
    "df_done.to_csv(output_folder / f\"train_{seed}.csv\", index=False, encoding=\"utf-8\")"
   ]
  },
  {
   "cell_type": "code",
   "execution_count": null,
   "id": "c7f52784",
   "metadata": {},
   "outputs": [],
   "source": []
  }
 ],
 "metadata": {
  "kernelspec": {
   "display_name": "diploma",
   "language": "python",
   "name": "diploma"
  },
  "language_info": {
   "codemirror_mode": {
    "name": "ipython",
    "version": 3
   },
   "file_extension": ".py",
   "mimetype": "text/x-python",
   "name": "python",
   "nbconvert_exporter": "python",
   "pygments_lexer": "ipython3",
   "version": "3.8.13"
  }
 },
 "nbformat": 4,
 "nbformat_minor": 5
}
